{
 "cells": [
  {
   "cell_type": "code",
   "execution_count": 1,
   "metadata": {},
   "outputs": [],
   "source": [
    "import pandas as pd\n",
    "from pathlib import Path\n",
    "import matplotlib.pyplot as plt\n",
    "from collections import Counter\n",
    "import matplotlib\n",
    "import numpy as np\n",
    "import seaborn as sns\n",
    "sns.set()"
   ]
  },
  {
   "cell_type": "code",
   "execution_count": 2,
   "metadata": {},
   "outputs": [
    {
     "name": "stdout",
     "output_type": "stream",
     "text": [
      "BCRTESTDFfeatures.csv\r\n",
      "BCRdataCDRpept_nonpept.csv\r\n",
      "BCRdataCDRpeptnonpept_LPS.csv\r\n",
      "BCRdataCDRpeptnonpept_LPS_enriched.csv\r\n",
      "HUMANBCRdataCDRpept_nonpept.csv\r\n",
      "HUMANBCRdataCDRpeptnonpept_LPS_enriched.csv\r\n",
      "KABABCRdataCDRpeptnonpept_LPS_enrichedfeatures.csv\r\n",
      "KABATBCRdataCDRpeptnonpept_LPS_enriched.csv\r\n",
      "KABATBCRdataCDRpeptnonpept_PNEUMO.csv\r\n",
      "RFCDR3peptnonpept_LPS_enriched.joblib\r\n",
      "TESTBCRdataCDRpeptnonpept_LPS_enriched.csv\r\n",
      "\u001b[34m__pycache__\u001b[m\u001b[m/\r\n",
      "\u001b[34mdata\u001b[m\u001b[m/\r\n",
      "data_labeling.ipynb\r\n",
      "df_functions.py\r\n",
      "epitope_labels.pdf\r\n",
      "featurematrix.ipynb\r\n",
      "featurespept_nonpept.csv\r\n",
      "featurespeptnonpept_LPS.csv\r\n",
      "featurespeptnonpept_LPS_enriched.csv\r\n",
      "\u001b[34mfigdir\u001b[m\u001b[m/\r\n",
      "get_data_IEDB.ipynb\r\n",
      "nonLPS_peptide.csv\r\n",
      "nonLPSfeautrues.csv\r\n",
      "non_peptide_clf.ipynb\r\n",
      "non_peptides.csv\r\n",
      "organism_dict.json\r\n",
      "profile_distances.py\r\n"
     ]
    }
   ],
   "source": [
    "ls"
   ]
  },
  {
   "cell_type": "markdown",
   "metadata": {},
   "source": [
    "DATA IS ALL ORGANISMS, B CELL RESPONSE"
   ]
  },
  {
   "cell_type": "code",
   "execution_count": 3,
   "metadata": {},
   "outputs": [
    {
     "data": {
      "text/plain": [
       "'HCDR3'"
      ]
     },
     "execution_count": 3,
     "metadata": {},
     "output_type": "execute_result"
    }
   ],
   "source": [
    "s = 'KABAT_human_mouseBCRHCDR3.csv'\n",
    "s[20:25]"
   ]
  },
  {
   "cell_type": "code",
   "execution_count": 4,
   "metadata": {},
   "outputs": [
    {
     "name": "stdout",
     "output_type": "stream",
     "text": [
      "HCDR3 shape: (2088, 4)\n",
      "HCDR2 shape: (1786, 4)\n",
      "HCDR1 shape: (1764, 4)\n",
      "LCDR3 shape: (1794, 4)\n",
      "LCDR2 shape: (1709, 4)\n",
      "LCDR1 shape: (1737, 4)\n"
     ]
    }
   ],
   "source": [
    "#files generated in notebook 'get_data_IEDB.pynb'\n",
    "#create one database with new column for region (complementary determining region)\n",
    "\n",
    "#files = ['BCRHCDR3.csv','BCRHCDR2.csv','BCRHCDR1.csv','BCRLCDR3.csv','BCRLCDR2.csv','BCRLCDR1.csv']\n",
    "files = ['KABAT_human_mouseBCRHCDR3.csv','KABAT_human_mouseBCRHCDR2.csv','KABAT_human_mouseBCRHCDR1.csv','KABAT_human_mouseBCRLCDR3.csv','KABAT_human_mouseBCRLCDR2.csv','KABAT_human_mouseBCRLCDR1.csv']\n",
    "datadir = Path('data')\n",
    "dfs = []\n",
    "regions = []\n",
    "for file in files:\n",
    "    df = pd.read_csv(datadir / file, dtype='object', skip_blank_lines=True, skipinitialspace=True )\n",
    "    df = df.apply(lambda x: x.str.strip())\n",
    "    region = str(file[20:25])\n",
    "    regions.append(region)\n",
    "    df['region'] = region\n",
    "    df.rename(columns={region: 'sequence'}, inplace= True)\n",
    "\n",
    "    df = df.filter(['sequence', 'Epitope', 'Antigen', 'region'])\n",
    "\n",
    "    df.dropna(subset = ['Epitope', 'sequence'], inplace=True)\n",
    "    df.drop_duplicates(subset= ['Epitope', 'sequence'], inplace=True)\n",
    "\n",
    "    dfs.append(df)\n",
    "    \n",
    "    print(region, 'shape:', df.shape)\n",
    "\n",
    "\n",
    "df = pd.concat(dfs, ignore_index=True, axis=0, sort=False)"
   ]
  },
  {
   "cell_type": "markdown",
   "metadata": {},
   "source": [
    "In order to determine what kind of epitopes are in the database, we have to categorize them ourselves. This is based on the way the epitopes are represented as strings. For example, strictly linear epitopes only have capital alphabetic characters, whereas a PTM is introduced with a '+' and '()'' signs. Discontinuous epitope are represented along with their (numeric) number from the antigenic peptide chain. (Possibly, you can also merge the 'bcell_full_v3.csv' to accomplish this)\n",
    "\n",
    "Here are examples of peptide notations:\n",
    "\n",
    "    - Linear: NWFDITNWLWYIK\n",
    "    - Linear with PTM: ARTKQTARKSTG + METH(K4)\n",
    "    - Discontinuous : K42, F43, M44, D45, Y47, Q48, R49, Y51, K127, C130\n",
    "    - Discontinuous with PTM: H129, N166, D173, K174, K175, K177 + GLYC(N162, N166)\n",
    "    - Multichain: A: S63, S64, D65, Y66, R69; B: L97, Y108, H109, M110, N111, P149, I150\n",
    "    - Multichain with PTM: HA1: E341; HA2: E360, G361, I363, D364, R370, E375, T377, G378, Q379, A380, A381, L383, N491, E495 + GLYC(2:N499) \n",
    "    - Different (old) notation: Ac-Gln-D-Phe-His-D-Pro-NH2\n",
    "\n",
    "Here are examples of other structures:\n",
    "    - cardiolipin\n",
    "    - 1,2-dihexanoyl-sn-glycero-3-phosphate\n",
    "    - testosterone\n",
    " \n",
    "A large fraction of the non_peptides appear to be lipopolysacharides, glycoproteins. These have long carbohydrate chains."
   ]
  },
  {
   "cell_type": "code",
   "execution_count": 5,
   "metadata": {},
   "outputs": [
    {
     "name": "stdout",
     "output_type": "stream",
     "text": [
      "1665 HCDR3\n",
      "1606 HCDR2\n",
      "1606 HCDR1\n",
      "1612 LCDR3\n",
      "1585 LCDR2\n",
      "1585 LCDR1\n"
     ]
    }
   ],
   "source": [
    "#because lipopolysaccharide_own has 100+ 'epitopes'\n",
    "for region, frame in zip(regions,dfs):\n",
    "    print(len(frame['Epitope'].unique()), region)"
   ]
  },
  {
   "cell_type": "code",
   "execution_count": 6,
   "metadata": {},
   "outputs": [],
   "source": [
    "# The entries in the db that are true labeled as lipopolyssaccharide. \n",
    "true_LPS = np.unique(df[df['Antigen'] == 'lipopolysaccharide']['Epitope'])"
   ]
  },
  {
   "cell_type": "code",
   "execution_count": 7,
   "metadata": {},
   "outputs": [
    {
     "name": "stdout",
     "output_type": "stream",
     "text": [
      "111\n"
     ]
    }
   ],
   "source": [
    "#Enrichment with lipopolysaccharides from own database\n",
    "#Drop these in the first run of the classifier when only checking peptide vs non peptide from IEDB\n",
    "#Although it would make sense adding them in the first run also as they are non peptides.\n",
    "print(len(df[df['Epitope'] == 'lipopolysaccharide_own']))\n",
    "\n",
    "#indexNames_owndb = df[df['Epitope']=='lipopolysaccharide_own'].index\n",
    "#print(df.shape)\n",
    "#df.drop(indexNames_owndb, axis=0, inplace=True)\n",
    "#print(df.shape)"
   ]
  },
  {
   "cell_type": "code",
   "execution_count": 8,
   "metadata": {},
   "outputs": [
    {
     "name": "stdout",
     "output_type": "stream",
     "text": [
      "Total epitopes: 1669\n",
      "Number of peptides: 1305\n",
      "Number of Peptides with PTM: 60\n",
      "Number of non peptides: 297\n"
     ]
    }
   ],
   "source": [
    "#TOTAL NUMBER OF EPITOPES\n",
    "total_epitopes = len(df['Epitope'].unique())\n",
    "print(\"Total epitopes:\", len(df['Epitope'].unique()))\n",
    "\n",
    "#NON PEPTIDIC EPITOPES\n",
    "not_peptidelower = [epitope for epitope in df['Epitope'] if epitope.islower()]  #no peptides in here\n",
    "not_peptidedigit = [epitope for epitope in df['Epitope'] if epitope[0].isdigit()] #no peptides in here\n",
    "not_peptidehyphen = [epitope for epitope in df['Epitope'] if ('-') in epitope] #Has peptides\n",
    "\n",
    "#PEPTIDIC EPITOPES\n",
    "peptides_diffnotation = [x for x in not_peptidehyphen if x.startswith('Ac')]\n",
    "[not_peptidehyphen.remove(x) for x in peptides_diffnotation]\n",
    "\n",
    "strictly_linear = [epitope for epitope in df['Epitope'] if epitope.isalpha() and epitope.isupper()]\n",
    "strictly_linear.extend(peptides_diffnotation)\n",
    "\n",
    "linear_PTM = [epitope for epitope in df['Epitope'] if epitope.split()[0].isalpha() and epitope.endswith(')')]\n",
    "\n",
    "discontinuous = [epitope for epitope in df['Epitope'] if epitope.isupper() and (',') in epitope and not epitope.endswith(')')]\n",
    "\n",
    "multichain_epitopes = [x for x in discontinuous if ':' in x]\n",
    "chain_epitopes = [x for x in df['Epitope'] if x.startswith('Chain')]\n",
    "multichain_epitopes.extend(chain_epitopes)\n",
    "\n",
    "true_discontinuous = [x for x in discontinuous if x not in multichain_epitopes]\n",
    "\n",
    "discontinuous_PTM = [epitope for epitope in df['Epitope'] if (',') in epitope and epitope.endswith(')')  and epitope not in linear_PTM]\n",
    "\n",
    "multichain_PTM = [x for x in discontinuous_PTM if ':' in x]\n",
    "\n",
    "#LPS (these are already in non_peptides, but make seperate lists to put in dict)\n",
    "#LPS_tags = ['rhamno', 'Rha', 'Kdo', 'Neu5Ac', 'GlcpNAc', 'GlcNAc', 'Galp', 'Fucp', 'Man', \n",
    "#            'manno','Neu5Pr','lipopolysaccharide', 'Ko', 'Neu5NAc',\n",
    "#            'GalNAcAN', 'Araf', 'NeuNAc', 'fucopyranosyl', 'GlcN4P','lipopolysaccharide_own']\n",
    "LPS_tags = 'lipopolysaccharide_own'\n",
    "\n",
    "LPS = [epi for epi in df['Epitope'] if any(string in epi for string in LPS_tags)]\n",
    "\n",
    "left_over_multi = ['A: N24, G26, P27, V29, T155, K156, E159, L161, Y190, T192, S193, V194, T195, N196, I199; B: Q169, L170, K171, V172 \\tDiscontinuous protein',\n",
    "                   'a: R356, C360, L387, S389, N390, N395, E396, T397, H398, F399, S400, D401, D402, E404, Q405, D408; b: S269, E270, G271, K272, D273, T274, P275, Q324, R325, K327'\n",
    "                  ]\n",
    "multichain_epitopes.extend(left_over_multi)\n",
    "    \n",
    "#Lists to store epitopes\n",
    "\n",
    "peptides = []\n",
    "peptides_PTM = []\n",
    "non_peptides = []\n",
    "\n",
    "peptides.extend(strictly_linear)\n",
    "peptides.extend(multichain_epitopes)\n",
    "peptides.extend(true_discontinuous)\n",
    "peptides.extend(peptides_diffnotation)\n",
    "print('Number of peptides:',len(set(peptides)))\n",
    "\n",
    "peptides_PTM.extend(linear_PTM)\n",
    "peptides_PTM.extend(discontinuous_PTM)\n",
    "peptides_PTM.extend(multichain_PTM)\n",
    "print('Number of Peptides with PTM:',len(set(peptides_PTM)))\n",
    "peptides.extend(peptides_PTM)\n",
    "      \n",
    "non_peptides.extend(not_peptidelower)\n",
    "non_peptides.extend(not_peptidedigit)\n",
    "non_peptides.extend(not_peptidehyphen)\n",
    "non_peptides.extend(LPS)\n",
    "\n",
    "left_over_nonpept = ['Reactive Red 6 hapten copper complex',\n",
    "                     'estriol 3-O-(beta-D-glucuronide)',\n",
    "                     'estrone 3-O-(beta-D-glucuronide)',\n",
    "                     'gibberellin A4',\n",
    "                     'cyclosporin A',\n",
    "                     'leukotriene C4'\n",
    "                    ]\n",
    "non_peptides.extend(left_over_nonpept)\n",
    "\n",
    "non_peptides=[x for x in non_peptides if x not in peptides_PTM]\n",
    "non_peptides=[x for x in non_peptides if x not in multichain_epitopes]\n",
    "non_peptideslipo = [x for x in non_peptides if x not in LPS]\n",
    "\n",
    "peptides_PTM = [x for x in peptides_PTM if x not in non_peptides]\n",
    "\n",
    "print('Number of non peptides:',len(set(non_peptides)))"
   ]
  },
  {
   "cell_type": "code",
   "execution_count": 9,
   "metadata": {
    "scrolled": true
   },
   "outputs": [
    {
     "name": "stdout",
     "output_type": "stream",
     "text": [
      "Unique LPS epitopes: 2474\n"
     ]
    }
   ],
   "source": [
    "#The substrings in the true labeled LPS can be found in other structures that are LPS or derivatives, \n",
    "#but are not labeled as such in the database\n",
    "substrings = []\n",
    "for x in [x.split('-') for x in true_LPS]:\n",
    "    substrings.extend(x)\n",
    "\n",
    "#Counter(substrings).most_common()\n",
    "alpha = [x for x in df['Epitope'] if 'alpha' in x]\n",
    "#set([x for x in alpha if x not in LPS])\n",
    "print('Unique LPS epitopes:',len(LPS))"
   ]
  },
  {
   "cell_type": "code",
   "execution_count": 10,
   "metadata": {},
   "outputs": [
    {
     "name": "stdout",
     "output_type": "stream",
     "text": [
      "Number of sorted epitopes: 1650\n"
     ]
    },
    {
     "data": {
      "text/plain": [
       "(1650, 1365, 297, 60, 306, 139)"
      ]
     },
     "execution_count": 10,
     "metadata": {},
     "output_type": "execute_result"
    }
   ],
   "source": [
    "#Dict to store epitopes and label\n",
    "label_dict = {}\n",
    "label_dict['non_peptides'] = set(non_peptideslipo)\n",
    "label_dict['peptides'] = set(peptides)\n",
    "label_dict['strictly_linear'] = set(strictly_linear)\n",
    "label_dict['true_discontinuous'] = set(true_discontinuous)\n",
    "label_dict['lipopolysaccharides'] = set(LPS)\n",
    "label_dict['multichain_epitopes'] = set(multichain_epitopes)\n",
    "label_dict['peptides_PTM'] = set(peptides_PTM)\n",
    "\n",
    "#Leave the groups you don't want in the final labeling out of the sorted epitopes\n",
    "#For example don't include PTM peptides when comparing non_peptide vs peptide\n",
    "#sorted_epitopes = set(LPS + peptides + non_peptideslipo)\n",
    "sorted_epitopes = set(peptides + non_peptideslipo+LPS)\n",
    "print('Number of sorted epitopes:', len(set(sorted_epitopes)))\n",
    "\n",
    "len(set(sorted_epitopes)), len(set(peptides)), len(set(non_peptides)),len(set(peptides_PTM)), len(set(LPS)), len(set(multichain_epitopes))"
   ]
  },
  {
   "cell_type": "code",
   "execution_count": 11,
   "metadata": {},
   "outputs": [
    {
     "data": {
      "text/plain": [
       "306"
      ]
     },
     "execution_count": 11,
     "metadata": {},
     "output_type": "execute_result"
    }
   ],
   "source": [
    "len(label_dict['lipopolysaccharides'])"
   ]
  },
  {
   "cell_type": "code",
   "execution_count": 12,
   "metadata": {},
   "outputs": [
    {
     "name": "stdout",
     "output_type": "stream",
     "text": [
      "Epitopes shared between non_peptides and peptides: 0 8 1365\n",
      "\n",
      " [] \n",
      "\n",
      "Epitopes shared between non_peptides and strictly_linear: 0 8 372\n",
      "\n",
      " [] \n",
      "\n",
      "Epitopes shared between non_peptides and true_discontinuous: 0 8 794\n",
      "\n",
      " [] \n",
      "\n",
      "Epitopes shared between non_peptides and lipopolysaccharides: 0 8 306\n",
      "\n",
      " [] \n",
      "\n",
      "Epitopes shared between non_peptides and multichain_epitopes: 0 8 139\n",
      "\n",
      " [] \n",
      "\n",
      "Epitopes shared between non_peptides and peptides_PTM: 0 8 60\n",
      "\n",
      " [] \n",
      "\n",
      "Epitopes shared between peptides and strictly_linear: 372 1365 372\n",
      "\n",
      " ['GKLGLITNTIAGVAGLI', 'TGHRMAWDMMM', 'GPCKTCT', 'EEKKGNYVVTDH', 'PRGYPGQV', 'GLYEWGGARITNTD', 'DAEFRH', 'RRPSHQQPRKIRPEGREGEQEWGT', 'MATLEKLMKAFESLKSF', 'SAPDTRPAP', 'PRREEGGRWGPAEPREREREEDWR', 'PPYPAWHAPGNI', 'NQNNFVHDCVNITIKQHTVT', 'RKRIRVGPGQTVY', 'DTVTVEDLKQRGISAERPLVYISS', 'ISFPEGFPFKY', 'HIGPGRAFYT', 'Ac-D-His-Pro-NH2', 'LRDKKQKVHALFYKADAV', 'GACRNPWGLTCGAAGAEK', 'KGVRIGPGQA', 'KPNDAINF', 'SYWQKSPTG', 'Ac-Gln-D-Phe-His-D-Pro', 'ILPWKWPWWPWRR', 'DFHFEVFNF', 'Ac-D-Phe-betaAla-L-His-D-Pro-NH2', 'SVPYHDAERFNMDG', 'ELDKWASLWNWFDITNWLWYIR', 'NWFDITNWLWYIKLFIMIVGGLV', 'RPPRYLSQL', 'YLEDWIKYNNQK', 'REEFRHEA', 'TGALQERSK', 'DTDSGYDVPDY', 'TKPITIGSHAHGDQYK', 'QLINTNGSWHI', 'VATWLNPDPSQK', 'LVHWNKKKYSSYEEAKKH', 'PPPIDNGDITS', 'RRGAGSSQHQERCCNELNEFENNQ', 'QIVGGVYLL', 'ARQQWELQEDRRCQSQLERANLRP', 'SLLMWITQV', 'SLTRHKPEPHRK', 'AKFRHD', 'PQITLWQRR', 'SSWQSDQHREHMIG', 'DAEFRHDSGYEVHHQKLVFFAEDVGSNK', 'KAEQVKASKEMGETLLRAVESYLLAHSDAYN', 'SDKTHTSPPSPAPEL', 'NAYNMSIRR', 'VGSDWRFLRGYHQYA', 'YHKHPHTYHNFK', 'Ac-D-Glu-His-D-Pro-NH2', 'SLLTEVETPIRNEWG', 'PYSQESVLSADSQNQK', 'MSLPGRWKPK', 'SLRFDELNFRSVDG', 'VVQEALDKAREGRT', 'GQQQQQQQQQQG', 'NQVYYRPVDQYS', 'SAQSQRAPDR', 'DVPDYAS', 'AEEVKVIPAGELQVIEKVDAAFKVAATAANAAPANDK', 'VHWDFRQWWQPS', 'WEWWR', 'YNKRKRIHIGPGRAFYTTKNIIG', 'SLGDNLTNHNLR', 'KQHTVTTTTKGE', 'PTSSEQI', 'TDHGAE', 'IEESDDRRYDLVGP', 'GWGQ', 'GAAAGIVAG', 'GDP', 'ISVKNAEKVQTAGIVTPYDILKQELDE', 'ELDKWAG', 'TTTYTASARGDLAHLTTTHARHLP', 'NIAEANSDYDREKLQE', 'TRKSIRIGPGQAFY', 'GYPTFGEHKQEKDLEYG', 'NWWDITNWLWYIK', 'TRKSIHLGPGRAFY', 'AVGIGAVFL', 'EPANPSEK', 'IDP', 'RDPYSPSPYDRRGAGSSQHQERCC', 'RPPRYLANQ', 'WNWFDITNWLWYIR', 'ELRNLPQQCGLRAPQRCDLEVESG', 'NFEKL', 'SFEPWYPRG', 'RYSPSLNTRL', 'YLEAFY', 'WGCSGKLICTT', 'NTTIIDGAGEKEAIAKRINVIK', 'NWFDIT', 'NWFNITNWLWYIK', 'PKLEPWKHP', 'KPIIIGSHAYGD', 'AVLKYENNVMNIRQFNCSPHPYWLPNFMDVFTWSLP', 'NEQELLELDKWASLW', 'SPSSPEKEDQEEENQGGKGPLLSI', 'AEPWTVRNEDL', 'KSIHLGPGRAFYA', 'ELEKWAS', 'DAEFRHD', 'NGSWH', 'SPAPERRGYSGYDVPDY', 'DVFYPYPYASGS', 'SIKIRPRQAFYA', 'LHLLGFGINAENNHRIFLAGDKDN', 'RPGFAGPAVLDWEEWCPLWAGNWGRRRAYQAASWAW', 'NEQELLELDKWASLWNWFDITNWLWYIR', 'AHAYSGYDVPDY', 'VEQHHRRTD', 'KRIPNKK', 'RLPRYMQEV', 'EGWQCSLCTYINNSELPYCEMCETPQGSAVMQIDSL', 'YPYDVPDYA', 'KSITIGPGRA', 'KGIYPLSYE', 'NWFDITNWLWYIR', 'GVNLTSH', 'RPPRYMVQS', 'VATALNPDPSQK', 'SMMKADFEEEPR', 'ELDKWNSL', 'SKCRVFNTTERDEQGSKVNDFFQQTEDLYNEMKWQK', 'VEVPGSQHIDSQKKA', 'APCRTCT', 'RLLIADPPSPRE', 'ASWHQHYMKHKP', 'KNRGIIKTFSN', 'RPPRFQLSS', 'TNGIRYHYD', 'GLECNFG', 'DVPDYASL', 'PIYDIN', 'NTGWLAGLF', 'AECDWGKGGRWRLWPGASGKTEACGP', 'HHHHHH', 'PKHADADNILVIQQGQATVTVANG', 'NEQELLELDKWASLWN', 'GLQYTPSWMLVG', 'ECFDPLVRHCVACGLLR', 'EQELLELDKWASLW', 'PQQCGLRAPQRCDLEVESGGRDRY', 'KDTNNNLYNGK', 'VQKLKEKCDGKINYTDKKVCKVPPCQNACKSYDQW', 'GDPRPSYISHLL', 'NSTTFHQALLDPRVRGLYFPAGG', 'NPDPNAN', 'SVNWQKQTISNL', 'LAGGSAQSQRAPDR', 'LVFFAEDVGSNKGAIIGLMVGGVA', 'VKAETRLNPDLQPTE', 'GPCATCT', 'SICSNNPTCWA', 'Ac-D-Phe-His-D-Pro-NH2', 'RIHAEFVQQKNFLVEE', 'DNPASTTNKDK', 'NNTKKSIKIRPRQAFYATNGIIG', 'SMMKADFDEEPR', 'ELDKWKSL', 'GFAGQAGPAGATGAPGRP', 'DAEFRHDSGYEVHHQK', 'NCS', 'LPGEEDLPG', 'Ac-Gln-D-Phe-His-D-Pro-betaAla', 'EEPGSETSDAKST', 'DVQTGRRPYE', 'SNYSDVKRLPTV', 'PQDENPVVHF', 'HLP', 'RPPKWVSAQ', 'SELLSKINDMPITNDQKKLMSN', 'EQKLISEEDLN', 'SHGRTQDENP', 'SWFHKPQRRHSHQ', 'NDFHFEVFNF', 'NESLNTGWLAGLF', 'LLELDKWASLW', 'CPNKSPRIC', 'NSELLSLINDMPITNDQKKLMSNN', 'KLVFFAEDV', 'PQFSLWKR', 'Ac-D-Phe-His-D-Pro', 'LRDKKQKVHALFYKLDIV', 'CPNKSPTRC', 'RQLINTNGSWHIN', 'Ac-Gln-D-Phe-His-D-Pro-betaAla-betaAla', 'HFVQQTPKSQPTLV', 'VYKPVDLSKV', 'DFEDVWNSSYG', 'DTRPAP', 'VVSHFND', 'CPNKSPLVC', 'PHGGSWGQ', 'RCNPNMEPPRCWAAEGD', 'KRKRIHIGPGRAFYTTK', 'CSDEALPLGSPRC', 'ANPSEKNSP', 'ATTEEQKLIEKINAGFKAALAAAAGVQPADKYR', 'TKKGIAIGPGRTLY', 'RMFPTPPSL', 'SLLTEVETPTRNEWECKCIDSSD', 'WASLWNWFDITN', 'SLWNWFDITNWLWYIK', 'RRCQSQLERANLRPCEQHLMQKIQ', 'QLINTNGSWHIN', 'MKRSGYGQPIA', 'PYSPSQDPDRRDPYSPSPYDRRGA', 'STNPKPQRKTKRNTNRRPQDVKFPGGGQIVGGVYLLPRRGPRLG', 'GACPNPWGLLCGAAGAEK', 'NNFGRLFEVKPDKKNPQLQDLDMM', 'SPPWHKHELHRK', 'Ac-D-His-Pro', 'Ac-His-D-Pro', 'KLASIPTHTSPL', 'EEEDDDMGFGLFD', 'YHLENEVARLKK', 'EDWRQPREDWRRPSHQQPRKIRPE', 'NNTRKSIHLGPGRAFYATGDIIG', 'GVYLLPRRGPRLGVRATRKT', 'ETIYNTTLKY', 'EVVPHKKMHKDFLEKIGGL', 'SLLTEVETP', 'MHRAPSTKHLLP', 'IRECTGLAWEWWRTV', 'ERCCNELNEFENNQRCMCEALQQI', 'SYWQKTPHG', 'NFVPCSICSNNPTCWAICKRIPNKKPGKKT', 'ALDKWD', 'TAEEEEDFGE', 'NANPNANPNANPNAN', 'DAEFRHDSGYEVHHQKLVFFAEDVGSNKGAIIGLMVGGVVIA', 'NWFDITNWLWYIK', 'GDIR', 'ALDKWQN', 'NRPRWVKEA', 'AEFNEIRRVLLEENAGGEQEERGQ', 'AEPAENNWFMLTYFLAAEGC', 'YTASARGDLAHVTAT', 'PTGHS', 'FKRELRNLPQQCGLRAPQRCDLEV', 'EKNEQELLELDKWASLW', 'APDTRP', 'DKWASLWNWFNITNWLWYIKLFIMIVG', 'TKHPKKGVEKY', 'LEIKKPDGSE', 'ELDHWAS', 'VCNPLTGALLCSAAEGD', 'WGIHHPPNSKEQQNLY', 'NANPNANPNANPNANPNANPNANP', 'RMFPGEVAL', 'NPDPNANPNVD', 'HQLDPAFGANSTNPD', 'RMKQLEPKVEELLPKNYHLENEVARLKKLVGER', 'GRDPYSPSQDPYSPSQDPDRRDPY', 'ICSNNPTCWA', 'DFHFEVFNFVP', 'Ac-Gln-D-Phe-His-D-Pro-NH2', 'THGQWNKPSK', 'QQQQQQQQQQQQQQQQQQQQQQQQQ', 'TPCVPAECFDLLVRHCVACGLLRTPR', 'DWEYSVWLSN', 'NLRPCEQHLMQKIQRDEDSYGRDP', 'QLINTNGSWHVN', 'WNWFDITN', 'SLTWHKHELHRK', 'DNKMQFESSSYEGYFLACEKERDLFKLILKK', 'ANGGASGQVK', 'SLWNWFDITKWLWYIK', 'TGLRNGITNKVNSVIEKAA', 'NSNNPDWDF', 'RKPRYLTQS', 'NLSELDRLLLEL', 'YQQYQDATAEEEEDFGEEAE', 'KREAIVKADE', 'RKKRGLFGAIAGFIE', 'TKDTNNNLCGN', 'CRTCT', 'MDWNMHAA', 'QKIQRDEDSYGRDPYSPSQDPYSP', 'GATPEDLNQKLAGN', 'NPDPNANPNVDPNAN', 'GGWHKHISRSDP', 'EFRHD', 'GPCRTCT', 'ELRDKKQKVHALFYKLDIV', 'AQSQRAPDRVLC', 'QFEDFFPASSRDQSSYLQGFSRNT', 'ALDKWAS', 'AIIGLMVGGVV', 'DATPEDLNAKL', 'NNTRKSIRIGPGQTFYATGDIIG', 'HPVAINASSELHLLGFGINAENNH', 'HIGPGRAFY', 'SLPEPLSEYDWRRG', 'LVFFAEDVGSNKGAIIGLMVGGAV', 'DPNWFDITAQLWEFSQEL', 'RLQGRQQEQQFKRELRNLPQQCGL', 'ICKRIPNKK', 'DAEFRHDS', 'IQLINTNGSWHINR', 'EEPGSETSDAKS', 'KRAVQKWAP', 'PCRTCT', 'YDTGATNQRHPPGERTRGRQPGDY', 'PAEPREREREEDWRQPREDWRRPS', 'AKQNIQLINTNGSWHINS', 'KESTQKAIDGVTNKVNS', 'Ac-His-D-Pro-NH2', 'AEFRHDS', 'LELDKWASL', 'LVFFAEDVGSNKGAIIGAMVGGVV', 'ELDKWAN', 'ELDKWASLWNWFNITNWLWYIK', 'SATRELDELMASLSD', 'IWGCSGKLICTTAVP', 'KRIHIGPGRAFYTT', 'MDWNMHAAGG', 'NQQKRNEQELLELDKWASL', 'TQDENPVVHF', 'ISSLYNLVKSS', 'NWFDISKWLWYI', 'AVRKEQQQRGRREQEWEEEEEDEE', 'WNWFDITNW', 'TRKGIHIGPGRAFYATGQITGD', 'NANPNANPNANPNANPNANP', 'RKSIRIQRGPGRAFVTIG', 'NKPPNKPNNDFHFEVFNFVPCSICSNNPTCWAICKRIPNKKPGKK', 'KRKRIHIGPGRAFYTTKN', 'DAEFRHDSGYE', 'PLQPQQPFP', 'LELDKWAS', 'YDVPDYAS', 'GSAMSRPIIHFGSDYEDRYY', 'KRIHIGPGRA', 'NCT', 'DATPEDLGARL', 'YKPVDLSKV', 'GQDLTAH', 'NVDPNANPNVDPNAN', 'GNQNGRIRVLQRFDQRSKQFQNLQ', 'HPKHPHTHTNDQ', 'KEDQEEENQGGKGPLLSILKAFN', 'GARGLTGRPGDA', 'LQQIMENQSDRLQGRQQEQQFKRE', 'GGQTFTDRE', 'NSKAMVIVVVNKGTGNLELVAVRK', 'EYMPME', 'HVVVNNKVATH', 'GACRTCT', 'GATLGPYPP', 'SVPYHDAERFNDG', 'MRGRVSPLMLLLGILVLASVSATQ', 'DLPDYGDYGEDLFDY', 'YNYGTMESY', 'NTGWLAGLFYQHK', 'RKRIHIGPGRAFYTT', 'SLLMWITQC', 'ELDKWAS', 'LLELDKWA', 'KPKTNMKHMA', 'KRTISIWGT', 'NTNGSWHIN', 'ANPS', 'YTKDTNNNLTL', 'FVATFGAASNKAFAEGLSGEPKGAAESSSKAALTSK'] \n",
      "\n",
      "Epitopes shared between peptides and true_discontinuous: 794 1365 794\n",
      "\n",
      " ['F631, K632, R634, Y636, V640, E641, R643, L644, T645', 'T134, N135, N136, I320, G322, D323, I324, R325, Q326, H328, T412', 'V28, S56, K75, I101, E102, S104, D105, Q119, L121, S145, P147, G148, S149, S150, P151, S152, G165, G166, K167, L187, Q188, N189, Q190, K191', 'Y115, T148, N150, G151, G152, S153, S154, S162, W170, Y172, K173, S174, G175, N210, L211, L243', 'Q178, H267, F279, T290, V308, S310, T312, P316, L317, H318, K333, P337', 'F184, T185, N189, Q190, E321, S323, T324, D325, Y326, L327, Q331, L332, K333, M334, T335, V336, D364, P365, Q366, W367', 'C117, V118, L120, V209, T211, Q212, H317, I318, R335, R423, K425, Q426, I427, K436, M438, P441', 'L44, R45, K46, V67, Q68, N83, Y87, S90, L91', 'R308, I309, Q310, G314, R315, A316, F317, V318, T319, I320, K322, I323, G324, R327, R419, K421, Q422, I423, M434', 'V30, S31, V32, D33, L34, P35, K44, E45, K46, Y52, D68, K69, N70, N71, S91, D92, D93, L94, G95, K117, D118, K119', 'T50, L51, F52, C53, S55, A57, K58, A59, V67, W68, A69, T70, H71, A72, C73, V74, P75, T76, D77, P78, N79, Q102, E105, D106, S109, Q113, Y219, T221, P222, A223', 'P373, Q408, H433, V441, S442, I462, S464, G465, K467, T488, K489, I490, I491, S492, N493, G495, N497', 'N161, F163, F165, V167, F168, N169, F170, V171, P172, S174, I175, C182, I189, P190', 'H95, W96, N97, K98, K99, K100, Y101, S102, S103, E106, H110, D112', 'V20, F21, G22, R23, C24, E25, K51, F52, N55, F56, N57, R132, A140, W141, R143, G144', 'K454, E455, S457, D458, D460, N473, N476, W477, K478, K479, L480, F481, G482, T483, S484, G485, K487, T488, I490', 'H90, Y337, H338, Y498, R502, E505, D506, R508, D509, M510, I511, G512, F513, P514, R598, D599', 'H33, G34, D36, N37, Y38, R39, W81, R91, L93, T107, N111, K114, K115, S118, D119, G120', 'S117, R118, S119, Y120, T122, S123, H124, G125, D126, R128, D129, H172, K200, K201, K202, Q203, Y249, R312, W313', 'H140, G142, S143, D144, Y145, D147, K204, R208, Q212', 'N170, Q171, V172, Y173, Y174, R175, P176, V177, D178, Q179, Y180, S181, N185, F186, V187, H188, D189, C190, E222, Q223, M224, C225, I226, T227, Q228, Y229', 'R170, H173, P174, F175, W176, D177, D178, Q179, R180', 'V46, T47, T49, N52, E136, R138, M140, T156, H158, E159, K166, E168, N208, E276, M277, D278, G279, A280, K281, R283', 'K109, V111, N112, E114, A115, Q118, I119, E122, P184, N217, Y218, Q219, Q220, S221, F222, H242, W243, L244, M245, N247, L269', 'G194, L197, N198, N200, W201, R202, W203, I225, E226, D227, S228, E229, I230, N255, S453, I454, H455, L456, K460', 'K46, L47, V48, S49, D50, C51, T52, L60, P61, G63, E64, E66, R73, T75, H76, C77', 'K96, E101, E105, I108, N278, T280, N281, N282, A283, K284, S365, G366, G367, D368, I371, R450, D451, G452, G453, A454, N455, T457, N459, T461, R463, N468, K470, R474', 'W168, P171, D446', 'T314, V315, G316, E317, N320, K350, S367, P369, R370, L371, K372, P373, E375, P401, P402, E403, V491, S493, G494', 'R301, I319, G320, D321, I322, R323', 'L33, N34, S35, N36, L37, N39, T41, N42, R102, L110, P217, E219, A221, R222, S223, T224, K227, E228, A231, L235, I292, R293, E294, Q297, T298, K301', 'R89, K90, A93, Q96, T97, A174, H175, Q179, A182, Y183, T187, E190, W191', 'V433, E496, N530, Y533, T534, L535', 'E49, Q77, W101, N134, I161, A162, P169, T200,  E203, Q323, W391, F392', 'E101, G105, S106, D107, T110, G111, E112, P113, S114, H125, P152, S153, Q154, P155, W156, R158, L159', 'Y221, R222, E251, G255, D257, N259, E261, L313, M314, T315, K316', 'E395, Q398, E401, D417, S418, L419, P420, D421, S423, V424, Q426, G449, W452, R456, T472, H473, R499, E503, V505, P523, G524, T526, Q527', 'F52, A57, K58, A59, Y60, T70, H71, C73, V74, P75, T76, D77, P78, C220, V221, P222, Q248', 'N266, K267, L268, T269, F270, Q271, E273, P274, P276, H277, N315, D571, P583, H584, A596, K597, K602, R611, P612, C613, H614, E615', 'Q115, S116, I121, V128, Y130, G140, L141, I148', 'L258, S259, N262, D263, T267, N268, D269, K271, K272, S275, N276, D310, R364', 'A281, T283, S365, G366, G367, D368, P369, E370, I371, V372, T373, Y384, R419, K421, N425, M426, G473, D474', 'N27, Q31, T32, K33, D35, S58, A59, D60, A61, D62, K125, K127', 'P134, S137, K177, Y180, T183', 'T75, F76, K77, Y79, Q91, D95, E96, L97, G98, P99, H102, R125, T137, E139, F142', 'R465, Y466, H467, R468, S469, S470, L471, P481, I482, E484, F504', 'K248, V250, S252, E271, S274, D275, N276, A277, K278, S358, G359, G360, D361, I364, R447, D448, G449, G450, S456, R463, G466, G467, D468', 'R199, K223, E224, P225, P226, F227, W229, M230, R358', 'T122, N278, T280, N281, N282, A283, K284, S365, G366, G367, D368, I371, G425, R450, D451, G452, G453, N455, R463, G466, G467, N468', 'E21, P22, P23, R27, K29, Q30, S35, Q36, C37, S39, Q42, Q45, C51, T52, E53, F54, T55, E56, T57, C59, W71', 'Q143, P146, S147, H149, T181, E183, A185, E186, N213, R214, D216, Y217', 'K362, M363, R364, Y365, E366, H367, T416, R418, Y421', 'M1, L3, K4, E307, P309, E310, F311, F312, E313, V316, F318, K319, N430, S435', 'Y45, L49, A50, R52, G53, A54, P55, G56, A57, Q58, I60, T61, Y62, P63, R64', 'D103, T104, S105, Y106, P107, G108, Q110, E113, P117, Q303, D307, K372, D373', 'H33, G34, D36, N37, Y38, R39, W81, R91, L93, T107, N111, K114, K115, I116, S118, D119, G120, N121', 'Y145, R149, Q151, S152, L153, I181, Q182, H183, N184, G185, Q188, Y191, N205, A206, Q207, R208, F209, G210, I211, S212, I319, L320', 'P116, D117, T223, L233, T240, N268, T269, T270, G271, K272, L273, I274, S307, F308', 'K96, T122, S201, T259, N278, T280, N281, N282, A283, K284, T285, S365, G366, G367, D368, E370, I371, H375, N419, M420, W421, G423, T424, G425, T449, R450, D451, G452, G453, A454, N455, N456, T457, N459, E460, T461, R463, G466, G467, N468, I469', 'Y114, T147, N149, G150, G151, S152, N153, S161, W169, T171, K172, Q205, E206, T208, S209, L210, L242', 'L1215, E1216, K1303, E1304, K1306, K1307, I1308, I1309, G1310, Q1311, V1312, R1313, L1319, F1328, I1329, K1333, R1334, K1335, G1336, G1337', 'D503, G520, H521, Q522, F523, S524, F525, S526, L527, P529, A532, S533, G534, T538, I539, Q540, D541, N542, K543, L550, R552, V569, S571, D572, N573, D574, Y575, P576, V577', 'S98, Q302, L305', 'N97, R98, S99, K100, G101, T102, A103, E104, K105, E139, D140, N171, R174, R175, I176, T177, S178, S419, I420', 'Y116, Q117, F119, S154, D155, G156, N157, D168, D170, V171, S172, Q173, E174, V175', 'T204, N206, E207, E208, A209, A210, E211, D213, R214, L215, P217, R232, G233, S234', 'H564, L565, Q567, L568, T569, W571, G572, K574, Q575, A578, R579, H643, V570, I573, K574, Q577', 'F37, G38, K61, E62, E63, A97, K100, K101, N104, E105', 'L33, G34, N37, Y38, R39, W80, W81, K91, L93, N95, T107, N111,  K114, K115, S118, G119, G120', 'K96, V202, D283, N284, A285, K286, S367, G368, G369, D370, I373, Q424, V451, R452, D453, G454, T463, E464, T465, G471, D472, R474', 'C118, V119, T201, Q202, A203, L367, R416, I417, Q419, I420, M431, P434', 'H656, D661, R662, N704, D705, F706, F708, Y755, Q782, Q783, S800, W826, Q832', 'K306, E313, S314, I316, F317, K319, K320, W321, E322, N340, A341, I342, P343, F344, T345, Y346, E347', 'N280, N281, V282, K283,  K354, K356, S364, G365, G366, T454, R455, D456, G457, G458, V459, D460, T461, T462, K463, R467', 'P330, N331, D332, P333, T334, Y342, P343, G344, N345, I367, I369, A370, S371, N400, T401, W403, K434', 'S62, P63, L64, S67, W70, F72, V97, T98, D99, P100, S101, G102, T121, V122, H123, H124, I125, Q126, G127, Q128, N129, P130, M154', 'N57, M66, S68, C70, V72, M73, R103, S107, F108, P109, S153, F156, E157, R159, C188, V189, A190', 'D91, E95', 'Y607, D609, P610, H615, P616, C617, H618, N626, P628, T629, S630, H631, D632', 'R69, R198, A284, G288, K289, N290, V291', 'E36, S37, H38, V39, A40, R41, A42, N43, L63, K64, N65, N66, N67, R68, V70, W78', 'V580, M581, K614, P616, F617, S618, S619, Q620, E622, K623, G624, V625, T626, Q627, G629, R630, L631, P652, V659, A662, G663, E664', 'Y195, Q235, S243', 'T62, K64, I66, R86, Y88, I91,H111, E113, R115', 'Y161, Q164, R185, G189, N191, H213, H215, K236, R237, L238, Y239, R240', 'T455, R456, G458, G459, S461, N462, I467, R469, G472, G473, D474, R476, D477, D279, N280, A281, K282, K362, S365, G366, G367, D368', 'Q3, L5, T39, G40, K41, R44, K108, N145, I174, N175, H176, S177, S204, L205, I215, E217, Y219, R220, N221, Y223, K224', 'F754, T1042', 'R426, S432, T433, Y436, N437, K439, Y440, Y442, P469, P470, A471, L472, N473, C474, Y475, W476, L478, N479, D480, Y481, G482, Y484, T485, T486, T487, G488, I489, Y491, Q492', 'P373, V374, R377, L406, Q408, Q432, H433, Q435, F436, V441, S442, I462, S464, G465, K467, K489, I490, I491, S492, N493, G495, N497', 'S107, K108, N187, D188, N189, P255, G256, S286, D287, A288, P289, P300, N301', 'H33, G34, N37, Y38, R39, W80, W81, R91, L93, T107, N111,  K114, K115, S118, D119, G120', 'G42, D43, D70, W91, D94, R95, E140, N179, E182, Y184, F185, D238, Y239, S240, E243, W259, S262, N263, T266, M359, W369', 'E43, N44, I45, E46, G47, N48, G49, G50, P51, G52, T53, R71, D73, H77, I87, K98', 'T274, N275, N276, A277, K278, N352, A364, G365, G366, D367, E369, I370, R417, M418, W419, V422, R448, D449, G450, V451, N452, D453, T454, R463, G467, D468, R470', 'T89, A90, S127, E129, R130, E132, P135, S138, K180, K186, K188, Y270, A273', 'V580, M581, C582, T583, G584, S585, E607, G608, T609, D610, P616, Q620, K641, A662, G663, E664, K665', 'K96, L121, E277, T280, N281, N282, A283, K284, S365, G366, G367, D368, E370, I371, N419, M420, W421, G423, T424, G425, Q426, T449, R450, D451, G452, A454, N455, R463, G467', 'Q316, F318, N320, G321, A322, I323, N325, D358, T360, I362, K364, K369, D370, E371, K372, Q373', 'K589, E593, T594, Q595, H596, I631, E647', 'V133, N135, I321, G322, D323, R325, Q326, H328', 'R32, H33, G34, N37, Y38, R39, W80, W81, S90, R91, N92, L93, N95, T107, N111, K114, K115, I116, S118, D119, G120', 'E22, L23, D25, D26, D27, M46, N48, L63, Y64, I139, H141, M170, T171, H172, G173, K174, T175, R176', 'R38, T56, K58, R80, Y82, H105, E107, R109, N110, K129, F130, D151, I152, F153, I155, E157, K183, Y185, N208, K209, Q235, E251, R255, N256', 'N653, W654, F655, I657, T658, G659, L661, W662', 'K432, C433, I434, C435, L441, D448, A449, C450, G451, P452, F469, Y475, Y476, S480', 'Q59, R63, N64, T65, G67, Y71, D84, G85, R86, P88, S99, L102', 'F382, Q387, E388, L389, L423, R425, R431, T432, R433, Y434, R436, I441', 'T144, G147, V148, S149, A150, G156, E157, S158, W166, T168, N171, L173, N200, D203, A206, L207, K235, D238, R239, E240', 'L46, K47, E49, T51, N52, K136, S138, S155, T156, E157, T160, T161, A162, T163, T165, T170, T171, E172, I173, Q174, T176, D177, S273, G274, T275, T276', 'S8, C9, D10, P11, R24, R27, L33', 'G58, L59, S61, P62, C63, K64, D65, G109, G110, S111, P112, W113, P114, P115', 'M137, H139, F140, G141, N142, D143, W144, E145, D146, K203, R207, Q211', 'N38, D40, K41, K68, E70, E71, Q75, W88, D91, R92, E137, Q178, E179, P180, Y181, F182, D233, D235, Y236, S237, W256, M356, P360, S363, W366, Y367, R370', 'K96, T286, N287, N288, A289, K290, S371, G372, G373, D374, E376, I377, R422, M423, W424, V427, R453, D454, G455, G456, K457, R466, G470, D471, R473', 'L32, W36, K64, Y65, Y84, L85, P86, W87, R108, P110, R111, G112, Q113, R116, Q122', 'K96, N97, N98, E101, L121, T122, N278, T280, N281, N282, A283, K284, S365, G366, G367, D368, I371, W421, T424, G425, Q426, T449, R450, D451, G452, G453, A454, N455, N459, E460, T461, R463, N468, K470, R474', 'K2111, F2112, I2177, R2178', 'E291, W295, D296, W297, I299, A300, P301, K302, N349, L351, F353, K356, E357, Q358, I359, I360, Y361', 'E31, Y33, S35, K42, P312, W314, D344, S377, E378, N380, L381, N383, V384, K390', 'R139, N141, N164, T165, N167, D166, A168, A169, F170, T201, G205, S206, G207, N208, K209, N257', 'D675, M794, T797', 'E157, K218', 'H33, G34, N37, Y38, R39, W80, W81, R91, L93, T107, N111, K114, K115, S118, D119, G120, N121', 'H103, S104', 'T125, N127, G128, T129, S130, S131, N139, W147, T149, H150, L151, N152, F187, L188, I220', 'D539, E649', 'N278, T280, N281, N282, A283, K284, N355, S365, G366, G367, D368, I371, T449, R450, D451, G452, G453, A454, N455, N456', 'H129, T131, N132, V133, T134, N153, S155, K165, K168, E169', 'Q19, L21, N45, E47, E115, L119, T120, R121, E122', 'K346, D347, L349, H370, L372, P373, V374, R377, D379, F381, F404, L406, Q408, K431, Q432, H433, V441, S442, I462, S464, G465, K467, K489, I491, S492', 'N646, W647, F648, T651, N652, L654, W655', 'I137, I320, I321, G322, D323, I324, R325, Q326, H328, P414', 'H33, G34, N37, Y38, R39, W80, W81, R91, L93, N95, T107, N111, K114, K115, I116, S118, D119, G120, N121', 'K540, R541, S542, G543, Y544, G545, Q546, I548, L586, W587, T647, N648', 'K33, G34, D35, D78, D81, S82, R83, S85, K97, N98', 'Q563, H564, L565, Q567, L568, T569, V570, W571, G572, I573, K574, Q575, L576, Q577, A578, R579, L581', 'K416, N417, K418, L440, N441, E442, Y465, N466, K467, Y468, R489, A491, L492, K493, N515, N516, N517, A519, H539, N541, S571, L595', 'G231, S232, N233, A250, D251, S252, K253, K254, N272, T273, A274, G275, T276', 'C118, V119, L121, V196, T198, Q199, R406, K408, Q409, I410, M421, P424', 'E112, D114, R116, S117, R119, G254, R255, T279, Q280, Y284, D297, Y300, Y302', 'S115, D116, K117, A120, F121, K139, N140, V144, K145, T166, Q167, V168, E189, D192, I193', 'P49, S50, C52, L53, M54, D55, R56, H57, D58, Q63, E165, V166, A169, E170, R173, L177', 'T250, L260, D261, G262, R263, V265, E266, T267, C268, P269, P270, P271, Y272, H274, N308, N309', 'L253, M254, I255, S256, H312, Q313, L316, E384, N386, G387, V424, S426, A433, L434, H435, N436, H437, Y438, T439, Q440, S442, S444', 'P63, R80, A81, N82, F87, L88, D90, G91, F92, S93, L94, S95, N96, L100, V101, P102, T103, S104, F138, S139, S140, Q141, T176, Q177, G178, D179, Q180', 'Q59, T61, R63, N64, T65, D66, G67, S68, T69, Y71, N83, D84, G85, R86, P88, P97, S99, L102', 'W72, G74, H75, C104, S110, R114, N117, I118, A119, G120, F121, P122, R125, S135, G136, A137, T138, L139, P140, A142, G143', 'C119, V120, L122, V200, T202, Q203, A204, C205, R419, K421, Q422, I423, M434, P437', 'S158, G159, S160, E194, E195, F196, R197, L221, L222, G223, R224, T225, G259, E260, F262, G263, A290', 'T27, P29, W30, H32, V33, N34, Q37, E38, R41, H100, Q103, H104, F136, D137', 'M1240, S1241, A1242, G1243, L1244, G1245, F1246, S1247, L1248, G1253, L1255, R1265, F1267, K1268, T1296, R1297, F1298, E1299, A1300, W1301, I1304', 'M1, F2, Q3, Q4, E32, T34, S41, S64, E66, G67, E68, E70, Q71, K72, E75, H76', 'T52, K53, S54, H55, F56, K67, N74, T76, D77, H100, E101, G300, S301, L302, P303', 'N790, G791, T792, T822, R823, Y824, H825, I826, N827, K828, T829, F841, L842, V843, P844, Y848', 'K96, E101, E105, N278, T280, N281, N282, A283, K284, S365, G366, G367, D368, I371, G423, R450, D451, G452, G453, A454, N455, N459, E460, T461, R463, G467, K470', 'S4, V7, A8, L11, R12, T15, R22, E327, D330', 'T121, Y122, P123, N126, Q127, E131, I133, K134, N135, P136, A137, K139, K141, Y214, T216', 'N35, L38, E39, E52, D54, K55, Y60, S62, K74, C77, W78, L79, D80, D81, F82, N83, Y85, E94, V99, F101', 'K181, I184, T186, Y188, K197, K198, T199, A200, K201, T202, N203, Q222, V224, P226, V230, R232, K233, D236', 'I126, Q127, E128, A129, N130, A144', 'L8, T9, Q31, D32, K33, E34, G35, I36, P37, Q40, R42, L71, L73, R74, G75, G76, M77, P95, S133, N136, I137, Q138, K139', 'R106, K191, Q193, R195, Y279, N280, A282, E283, K284, G285, S286, E304, K306, T307, V308, N309, G310, I311, H313', 'F63, V64, N66, Y68, T76, K78, D85, R86, S87, Q88, P89, G90, I126, S127, L128', 'S54, P55, H58, D59, V195, G196, K197, S234, V235, D236, Q237, E238, S264, Q265, E266, E269', 'D31, H45, S46, V47, T305, S306, T333, V362, D363, W365, L382, Q386, V396, N397', 'Y106, A143, T144, S145, R148, G151, S152, W160, D166, H192, S194, V195, E199, K202, L203, A228, R229, P230, Q231, G234, L235, G237', 'N50, K52, N53, P54, K55, T57, R58, T61, F62, K63, N91, L92, A93, Q94, K96, N97', 'K325, M326, T327, D328, L329, Q330, D331, K352, P354, K356, V367, I389, S390, T399', 'G199, Q200, N203, L205, Y212, Q220, D221, L222, M230, Q237, M238', 'K585, K587, K590, I592, E607, P612, L667, L669, W671', 'Y107, V147, S148, S149, Q154, G155, K156, W165, K168, K169, N170, E202, K205, L206, G237, Q238', 'L57, E58, L83, E84, E86, P87, A112, D113, T114, S115, S116, F117, P173, M174, T175, S176, H177, S228, F229', 'D113, D114, I115, A116, V117, L119, E121, Y122, R165, T168, K169, T170, E171, I174, K216', 'G100, Q101, D121, Q123, T148, H149, T153, I159, V161, S162, Y163, Q164, T165, K166, R207, E211, I212, N213, R214, P215, D216', 'N100, Y102, W103, N235, L236, W237, K239, D240, W291, R293, F296', 'E205, G207, N208, V209, V231, H645, V646, T647, E648, K652, G656, I657, D658, N659, H660, R661, E662, A663, K664, N667, K803, K840, E567', 'H33, G34, N37, Y38, R39, W80, W81, R91, L93, N95, T107, N111, K114, K115, I116, S118, D119, G120', 'D28, V29, N30, C31, T32, F34, P60, Y61, R75, G78, P79, G80, R81, C82, H83', 'G391, T392, P394, Y397, N398, F399, K400, L495, K496, P525, V527, S528, I529, V530, P531, S532, T533, W535, E536, D537, D539, Y540, Y541, R542, K543, Q544, L545, S546, E549, W553, T560', 'S206, S207, A208, A209, T210, K211, K212, T213, A214, A215, T226, V227, N228, S229, K230, K231, D249, S250, N251, G252, T253', 'K31, R32, H33, G34, D36, N37, Y38, R39, W81, R91, L93, N95, T107, N111, K114, K115, I116, S118, D119, G120, N121', 'I138, H139, F140, G141, N142, D143, W144, E145, D146, R147, M204, V208, M212', 'W567, A579, L580, H581, S582, T586, A587, V588, K590, I592, D593, Y594, G595, Y597, E598, E599', 'K39, D40, D55, F61, T63, V74, K75, C78, W79, L80, D81, D82, I83, N84, Y86, V100, F102', 'H98, P99, L100, Y101, D116, H119, T143, K191, K194, F195, H248, Y249, R250, K251, W252, K254', 'L96, S103, E120, K155, Y157, W159, D162, R163, P164, I166, V217, H218, P219, K220, G221, P222, K223, S224', 'R83, Q86, K89, Q93, S94, V97, R100, T101, K167, Q170, A171, E175, R176, A179, Y180, G183, T184', 'C118, V119, L121, V196, T198, Q199, A200, R406, R406, I407, K408, Q409, I410, M421, P424', 'D49, A52, I54, Y56, E58, M59, E60, D61, K62, N63, Q66, V68, H69, V111, R113, M115, G119, G120, A121, D122, Y123, R125', 'T134, N300, I321, G322, D323, I324, R325, V439, R441', 'K154, K181, I184, T186, Y188, Y189, K197, T199, K201, N203, D210, Q222, P226, R232, K233, D236', 'I115, S116, V117, L118, M119, E121, Y122, V124, S125, Y127, R165, N166, T168, K169, N174, F226', 'C118, V196, T198, Q199, A200, C201, P202, I317, G319, D320, I321, Q409, I410, M421, A423, P424, P425', 'P1390, Q1391, R1392, S1394, R1395, N1396, F1397, V1398, R1399, N1421, K1423, Q1424, L1427', 'F183, T186, E187, P188, L189, M190, P192, M193, T194, D196, E197, R199, H200, F201, Y202, K203, D204, N205, V208, K209, G222, N223, M224, I225, N228, K230, K235', 'W72, M73, C74, Y75, K77, T78, F82, D87, N89, M90, L92, P93, L94, G95, W99, N102, K264', 'N196, T197, T277, N278, N279, A280, R358, S363, G364, G365, D366, E368, V369, Q425, I427, R453, D454, G455, G456, T464, R466, D471, R473, R477', 'Y45, L49, R52, G53, A54, P55, G56, A57, Q58, I60, T61, Y62, R64, D80', 'G39, T41, E43, L44, F47, R141, E142, L145, E146, V149, S150, V153, I155, R156, T157, P158, Y161, P163, I168', 'E142, S144, G146, V147, S148, S149, T156, P157, W165, I167, K168, K169, N170, N171, K205, L206, K234, G237, Q238', 'E274, N275, N278, N279, A280, K281, S363, G364, G365, D366, V369, Q425, R426, T452, R453, D454, G455, G456, T458, R466, G470, D471', 'V135, M136, S137, G138, P139, K143, Q148, Q150, D151, E153, Q154, Q155, V157, E180, K181, N182, D202, P203, K204, N245', 'K36, A37, M38, E68, R70, Q76, S79, Q80, V81, E83, L126, I128, K130, E132, M134, P137, P138, Y139, Y140, L141, I143, N145', 'S255, L258, S259, N262, D263, N268, D269, K271, K272, L273, S275, N276', 'G28, Q29, K57, T60, G61, Y67, S72, R79, N80, G81, R128, D129, H130, S131, Y132, Q133, E134, E135', 'W95, E277, N278, L279, T280, N281, N282, A283, K284, S365, G366, G367, D368, I371, G423, T449, R450, D451, G452, G453, R463, G466, R474', 'S511, V513, S514, L515, S518, T548, Q550, K557', 'C74, P75, T76, M77, G78, E79, G104, C105, G106, L107, G109, K110', 'E129, A130, S132, E142, K143, G144, Y146, C178, C218, S245, Q246, S248, H249, G250', 'H38, Y65, D67, F73, P96, T97, E98, E99, S100, N101, T103, Q105, I106, M107, R108, H116, I117, G118, E119, M120, S121, L123, N126, R131', 'W95, E277, N278, L279, T280, N281, N282, A283, K284, S365, G366, G367, D368, I371, G423, T449, R450, D451, G452, G453, G465, G466, R474', 'E360, G378', 'R377, D379, S380, F381, T382, H383, T384, P385, P386', 'H33, G34, Y38, R39, W80, W81, R91, L93, T107, N111, K114, K115, S118, D119, G120, N121', 'K116, P182, C183, Y184, Q185, Y187, V188, N194, F195, A196, F226, T231, T232, N233, K234, Y235, L239, K241, K289, E290', 'E14, D114, R116, E213, D215, K216, P218, E219, G220, S221, P222', 'S2213, Q2241, N2244, K2246, E2247, W2248, S2282, V2299', 'E560, Q563, H564, L565, Q567, L568, W571, G572, K574, Q575, L576, R579, D632, N636, H643, I646, V570, I573, K574, Q577', 'K114, K115, P116, D117, G118, E120, S142, G143, T144, G145, P146, Q221, T223, G224, T227, E231, L233, Y241, T269', 'N132, V133, N135, I317, I318, G319, D320, I321, R322, Q323, H325, P405', 'K10, V11, L12, N13, N14, P15, A16, K17, D20, P21, E23, I60, V62, G63, P66, N70, K71, F72, V73, S75, V136', 'Y45, L49, R52, G53, A54, P55, G56, A57, Q58, I60, T61, Y62, P63, R64', 'E1878, Y1887, Q1890, S1900, T1901, E1902, D1903, F1905, D1939, N1941, R1943, G1944, V1946, E1947, P1960, E1961', 'K96, N278, T280, N281, N282, A283, K284, S365, G366, G367, D368, I371, G423, T449, R450, D451, G452, G453, R463, G465, N468', 'H66, P68, F83, I85, E87, E88, D89, D90, Q91, A97, C100, M101, K102, Y103, E104, D107, Q109, S113, P114, K115, A116, Q117, L118, R119, R120', 'K305, F306, S307, I308, D309, K310, E311, M312, K323, K325, E327, T361, N362, S363, V364, N366, L387, T388, L389, H390', 'S143, D144, Y145, R148 R151, E152, K204', 'G81, N160, T162, D163, N164, A165, K166, K224, S232, G233, G234, D235, I238, V293, G294, R295, T318, R319, D320, G321, G322, N323, D324, D327, T328, E329, T330, R332, R339', 'N268, D269, K271, K272, S275, N276, S255, L258, S259, N262', 'M91, D112, F115, F118,  M120, L121, Y123, T125, Y148, K151, R164, A172, E173, I174, V175, K177, D178, R181', 'T134, N135, N136, D140, I320, I321, G322, D323, I324, R325, Q326, H328, P414', 'P328, R329, P330, N331, N345, N348, I367, S368, I369, A370, S371, S373, L399, N400, T401, D402, W403, P433, K434', 'D70, A71, Y74, T86, K89, L92, L93, E94, Q96, V97, L100, E101,G103, E112, I115, N119, N120, S123, C136, E137, E141', 'K463, K712', 'T138, Q139, T141, G144, G145, S146, R147, P155, T165, K166, K167, G168, S169, T203, L204', 'T300, N302, A303, K304, T305, Q381, S384, G385, T469, R470, D471, G472, G473, N474, N475, N476, K477, R485, G487, G488', 'D147, H150, R152, T153, P154, H197, D198, E199, W218, S219, K220, K221, I222, G248, R249, A250, D251', 'H25, H45, S46, V47, T332, V361, D362, G363, W364, Q381, K382, T384, Q385, I388, N389, V395, N396, I399', 'R377, Q408, Q432, H433, F436, V441, S442, S464, K467, K489, I491, S492, N497', 'P410, R413, H414, H431, Y434, M474, A475, E476, S477, D480, Y521, R522, K523, L524, R525, D526, K527, I528, H552, D569, A570, C571, K572, G573, S594, W595, G596, E597, G598, C599, G606', 'S59, E61, T62, D81, K83, R101, D102, G103, I104, T105', 'D36, W37, Y38, P39, D40, A41, K80, E81, F82, K106, K107, E108, D109, G110, I111, S113, T114, D115, L117, K118, D119, K121, K124, N125, K126,T147, I148, K219', 'S585, F586, K587, L588, E589, K590, E591, V592, Q603, K605, E607, E642, K643, P644, L667, K668, L669, S670, W671', 'A9, L11, K13, E16, T129, K214, P215, S216, N217, K219', 'T34, T35, Q37, T39, R44, N46, S64, S65, Y104, E105, K108, R142, S143, A144, N145, T146, S147, N175, L203, S204', 'T56, T334, D364, G365, W366, D382, L383, T386, Q387, I390, D391, I393, N394, G395, L397, N398, I401, E402, K403', 'Q129, T131, N147, S149, K162, N187', 'G150, Q152, L153, D154, K155, Y156, R157, S158, Q176, K180, K253', 'C118, V119, L121, V197, T314, T315, E317, I318, R323, K412, Q413, I414, K423, M425, Y426, A427, P428', 'K501, S503, Y504, I505, R506, T507, S508, L513, R515, E517, N574, H575, L579', 'P96, Q97, E99, K141, G142, Q143, T148, H149, T153, T155, S157, K166, V167, N168, E186, A187, P189, Y191, E211, I212, N213, R214, D216, Y217, A221, E222', 'K277, N278, D281, N282, A283, K284, K356, Q361, S364, G365, G366, D367, I370, V415, L440, R441, D442, G443, G444, T446, T450, E451, I452, R454, G457, G458', 'H90, Y337, Y498, R502, E505, D506, R508, D509, I511, G512, F513, P514, R598, D599', 'N63, I64, K65, T67, K68, C69, S197, N200, N201, Q202, L204, P205, I206, N208, Q209, Q210, E295', 'N111, W112, F113, D114, I115, S116, Q117, L119, W120', 'N278, N282, A283, N355, K357, S365, G366, G367, D368, I371, Q426, T449, R450, D451, G452, G453, E460, G467', 'T144, G147, V148, S149, A150, S151, W166, T168, G169, N171, G172, L173, N200, G202, D203, R205, A206, L207, H209, K232, K235, D238', 'R44, I47, E48, L134, K137, F140, R141, E142', 'D140, S145', 'F59, S60, V61, D62, E63, F64, A66, A220, L221, E232, Q233, L234, I314, K315, S316, Q317, G318, Q319', 'K324, Y325, R402, G405, P406, E458, F459, R460, P461, D462, L463, E465, M466', 'L19, K20, E21, S22, Y23, L24, E25, E26, I31, E33, G34, P282, C283, W284, K312, T317, E345, R348, E349, N351, I352, N353, T356, N358, L378, T411, Q413, D414', 'K181, I184, T186, Y188, G196, K197, K198,T199, A200, K201,T202, N203, E206, L208, D210, S220, Q222, V224, P226, R228, T229, V230, N231, R232, K233, S234, T235, D236', 'S133, P134, R138, Q160, R190, A191, C192, H193, P194, C195, P197, S202, E207', 'D36, R38, K42, Q55, K58, I60, E61, R80, Y82, S84, T104, H105, E107, R109, N110, K129, F130, D151, F153, I155, E157, T181, K183, D203', 'K96, N98, E101, L121, E277, N278, T280, N281, N282, A283, K284, S365, G366, G367, D368, E370, I371, N419, W421, G425, Q426, R450, D451, G452, G453, T461, R463, G467, K470', 'S17, I21, Q25, H27, V29, E31, Y32, D33, P34, T35, I36, E37, D38, S39, Y40, Q61, E63, Y64', 'S169, A170, L172, S173, T174, N175, K176, A177, V178, L188, K191, D194, N197, K201, K226, D263', 'N54, C293, I294, T334, I363, D364, G365, W366, L383, K384, T386, Q387, A388, I390, D391, I393, N394, N398, I401, E402', 'I640, C641, H656, R662, G663, D705, F706, T707, F708, H752, Q754, Y755, G756, G757, Q783, D799, S800, C801, Q802, S805, W826, G827, G829, C830, G837', 'R34, L35, A37, E352, R354, L377, P378, E379, F381, D382, G383, D384, P385, A386, P391, L392, Q393, A414, D417, S418, Q446', 'M346, M347, T349, F350, N372, D374, Y375, N396, V419, K420, T421, I422, D423, Y424, Y428', 'E144, Q147, S148, D151, Y200, T201, V202, D204, E205, V207, Q208', 'Y67, L68, L71, Y72, E120, A124, G125, L126, G127, L128, F129, R130, V132, R136', 'H15, G16, Y20, R21, W63, R73, L75, N77, N93, K96, K97, S100, D101', 'T455, R456, D457, G458, G459, N460, S465, R469, G472, D474, R476, N276, T278, D279, N280, A281, S365, G366, G367, D368, I371', 'D36, N37, G40, S42, N45, G135, T136, D137, V138, Q139, I142, R143', 'Y397, N398, K400, L495, K496, P525, V527, S528, I529, V530, P531, S532, W535, E536, D539, Y540, Y541, R542, K543, Q544', 'E78, T79, K80, A81, Q82, R119, G123, A124, L125, Q126, S127, L128, L129, G130, T131, Q132, L133, P134, P135, R136;', 'Q3, L5, T39, G40, K41, R44, K108, N145, I174, N175, H176, S177, S204, L205, I215, E217, Y219, R220, N221, Y223, K224, N226', 'Y45, L49, R52, G53, A54, P55, G56, A57, Q58, I60, T61, Y62, R64', 'S31, S37, G38, Y40, G108, S117, G118, G119, F126, N180, N181, Y183, E186, I187, F188, N189, Q190, S191, Y194, Q234, E235, A238, I239, T240, Q241, D242', 'E49, K64, Q77, W101, V122, N153, T155,  I161, A162, P169, T200, K202, K310, Q323, W391, F392', 'K25, S26, C27, P28, E29, H31, W33, G36, K37, Q41, H56, R57', 'K727, T797', 'G460, T461, N462, S463, D465, N513, I514, Q552, Y554, T577, S578, P579, E580, T581', 'E207, N208, L209, P210, Q211, N212, G213, R214, Q215, G239, P240, N242, T289, S291', 'K98, R118, C119, D120, S121, E123, V124, E125, E140, E141, G142, T143, M152, K155', 'N110, E143, P144, L145, H146, A147, P148, N149, V150, D152, Y154', 'V1462, C1463, S1464, L1465, Q1466, N1468, W1497, K1498, Y1499, F1500, S1501, D1502, H1504, D1506, A1707, S1708, L1709, G1710, N1713, I1714, P1715, K1717', 'L53, I54, V55, Y56, W57, E58, M59, E60, D61, K62, N63, I64, I65, Q66, Y112, R113, C114, M115, I116, S117,  Y118, G119, G120, A121, D122', 'E14, D114, R116, N117, T119, K216, W217, P218, E219, G220, S221, P222', 'G147, V148, S149, A150, W166, T168, G169, N171, G172, L173, N200, I201, G202, D203, R205, A206, L207, K235, D238, R239', 'K96, E101, L121, E277, N278, T280, N281, N282, A283, K284, T285, S365, G366, G367, D368, I371, M420, W421, G423, G425, T449, R450, D451, G452, G453, N455, N456, R463, G466, G467, N468, K470', 'F221, P222, N223, K224, A225, K227, R319, K321, D322, S323, N324, T325, E326', 'R108, N109, V110, G111, S112, Q113, L115, E148, N180, I185, E188, N189, S236, S237, R239, P240, G241, I242, L244, W245, H246', 'E49, K64, Q77, W101, V122, N153, T155,  I161, A162, P169, T200, K202, K202, E203, K310, Q323, W391, F392', 'A42, R45, I47, S48, L49, F50, L53, R56, H57, D58, G60, Q63, E64, R148, E164, R167, A168, M171, R172, S175, L176', 'P63, L64, S67, K68, W70, A71, F72, I95, V97, P100, I125, Q126, Q128, N129, P130, H131, M154', 'N163, R184, T186, K188, H239, N240, Y241, V243, N245, E280, E282, L283, D284, T285, E286, D502, A504, N508', 'K22, V23, L24, H25, Y127, N131, P132, G133, W134, N135, Y140', 'A325, S326, S391, E392, D394, A444, N445, T448, R451, D452, M497, E500, R511, E563, T565, N566, I569, E573', 'Q59, T61, N62, R63, N64, T65, D66, G67, Y71, G85, R86, T87, P88, L102', 'Q1427, C1428, E1429, C1442, P1444, A1445, S1447, S1448, P1449, A1450, Y1453, C1458, G1461, G1462, E1464, L1507, L1508, R1510, L1592, S1594, P1595, E1596, N1597, D1598, H1599, P1602, S1606', 'R199, Q222, K223, E224, P225, P226, F227, W229, M230, R358', 'K89, S115, D116, K117, A120, F121, K139, N140, N141, V144, K145, K163, T166, Q167, V168, S188, E189, D192, I193', 'F2215, N2217, M2218, F2219, R2234, R2239, Q2335', 'N280, A281, S365, G366, G367, D368, P369, I371, V372, T373, Y384, N386, P417, R419, V430, G431, K432, T455, R456, G472, G473, D474, M475', 'Y45, L49, A50, R52, G53, A54, P55, G56, A57, Q58, I60, T61, Y62, R64', 'Y51, R53, I54, T55, S57, P60, K61, E62, A63, V64, P78, K79, Q84, M87, D88, D91, K92', 'N7, V8, K10, A11, R13, K57, T58, D59, D60, S61, D63, K66, H73, M74, P75, A76, D77, V169, M171, N193, G194, Q195, V229, N231, H232, K233, K234, W235, G253', 'P1390, Q1391, R1392, S1394, R1395, N1396, F1397, V1398, R1399, K1423, Q1424, L1427', 'C118, L121, T199, Q200, A201, R323, R410, K412, Q413, I414, M425, P428', 'V119, V196, T198, Q199, D320, I321, R322, R406, K408, Q409, I410, K419, M421, P424', 'R331, Q332, I333, G334, A335, S336, L337, N338, D339, A327, Q328, K368, Y369, R426, I446, G448,D449, R469', 'Q131, I132, P134, S137, S139, D140, T175, K177, R178, S179, Y180, N181, T183, N184, N256, F257, E258', 'H90, Y337, H338, Y498, R502, E505, D506, R508, D509, I511, G512, F513, P514, R598', 'E207, N208, L209, P210, Q211, N212, G213, R214, G239, P240, N242, T289, S291', 'G12, I15, T16, D17, R19, D22, A24, F25, Q27, Q28, R29, R32', 'P65, F69, E77, L78, Q82, K83, E84, G85, H86, P88, T97, K126, G127, P129, D130, D131', 'L597, K630, P632, A633, Q634, V637, D638, Q640, T641, L642, T643, P644, V645, L648, V681', 'L6, L7, G8, I9, S47, S48, R49, L51, D52, V94, L96, G110, Y112, V113, N114, N138, L140, E142, K143, P144, R145, V146, T147, R148', 'T661, S662, L663, D664, D724, R726, K727, Y729, S801, T802, G804', 'E22, L23, D25, D26, D27, E43, G44, M46, N48, E50, R57, K59, S60, G61, L63, Y64, L66, T68, G69, D77, N78, I139, H141', 'N19, G22, Y23, S24, N27, G102, N103, K116, G117, T118, D119, V120, Q121, I124, R125', 'K96, E101, N278, T280, N281, N282, A283, K284, S365, G366, G367, D368, I371, G423, D451, G452, G453, A454, N455, N459, E460, T461, R463', 'K96, E101, N278, T280, N281, N282, A283, K284, S365, G366, G367, D368, I371, D451, G452, G453, A454, N455, T457, N459, E460, T461, R463, K470', 'T134, N135, N136, M141, I320, G322, D323, I324, R325, Q326', 'E523, G524, A526, I527', 'L14, M15, I16, S17, R18, N147, G148, S187, M191, H196, N197, H198, Y199, Q201, S203', 'G120, F124, P125, Y143, S144, I145, A150, E155, G156, A159, V160, K162, E163, N170, K171, P172, E177', 'T89, S91, E129, R130, E132, P135, T137, S138, S181, Y270', 'G322, D323, I324, R325, H328, T412', 'K96, N98, E101, N278, T280, N281, N282, A283, K284, S365, G366, G367, D368, E370, I371, N419, M420, W421, G423, D451, G452, G453, A454, N455, T457, N459, E460, T461, R463, G467, K470', 'N45, V46, P47, D66, L68, E74, H76, Y78, W87, I88, T89, L90, N91, D92, K95, E96, F136, Y144, N145, N146', 'H151, F152, G153, S154, D155, Y156, E157, D158, K215, R219, Q223', 'Y115, T148, G151, G152, S153, S154, W170, Y172, K173, S174, G175, S176, K206, E207, N210, L211, V213, L243', 'Y280, G282, T283, N284, R285, N286, F290, G291, E292, N293, A294, D295, F297, F298, I299, P301', 'R568, R660, Y661, Y665, F592', 'K98, Y99, Q101, R118, C119, S121, G122, E123, V124, E125, P128, E140, E141', 'S127, D163, N164, H231, S232, G233, G234, D235, L236, E237, I238, T318, D320, G321, G322, N323, D324, D325, N326, R332, G334, G335', 'N200, N327, S371, S373, N400, K434', 'N501, K502, S504, F506, D510, R511, T512, E513, W535, E536, D537, G538, D539, Y540, Y541, R542, W553, V555, A556, S557', 'T47, F48, Q61, D63, P64, C65, I66, P67, G68, V69, H80, S83, C84, H86, I98', 'W1023, G1026, I1027, L1028, S1030, D1031, N1044, Y1051, K1052, T1053, E1080, H1084, R1085, R1105, S1106, N1142', 'P122, N124, N125, T126, R157, N158, P159, C162, Y163, D165, T166, N187, R188, S189, R190, A191, C192, H193, P194, S196, P197, E207', 'K8, T9, K11, E226, E230, Q234, T235, G238, W239, K240, D241, V242, D243, M244, M246, E247, R250', 'K307, K310, K325, Y326, E327, T329, D330, K361, E362', 'M1, L3, K4, N5, K6, D305, E307, P309, E310, F311, F312, E313, V316, F318, K319, S435', 'G147, V148, S149, A150, W166, T168, N171, G172, L173, N200, G202, D203, R205, A206, L207, H209, K232, D238', 'M1, Y2, L5, E6, N9, I55, P57, Q59, K62, L107, S110, L111, Y113, S114, Y115, Y164, T168, P169, H172, H173, L176', 'D36, N37, G40, Y41, S42, N45, G120, K134, G135, T136, D137, V138, Q139, I142, R143', 'T85, A86, L87, E89, P91, T92, Y95, N98, Q100, S109, C110, T111, S112, K113, A114, V115, I162, K163, G164', 'I675, D677, E679, L681, K682, E683, V684, I685, D687, N711, D712, K713, L714, P715, Y717, S719, S746, N748', 'D59, D61, V63, K64, R69, E85, N88, P90, E91, H126, E128, E286, Y287, N289, N291', 'A205, F209, K212, D331, N334, Y335, N338, L339, E341, Q342', 'E129, R130, F131, E132, P135, T137, S138, K180, S181, I183, Y270', 'N218, T237, T238, C454, Q455, K456, H457, T458, P459, P460, A461, P462, K463, E464, D465, P466, L467, K468, K469, Y470, T471', 'R108, V110, Q113, N180, I185, N189, S237, R239, L244, H246', 'E101, T197, T277, N278, N279, A280, K281, S363, G364, G365, D366, E368, V369, M423, W424, Q425, T452, R453, D454, G455, G456, S457, N459, E463, R466, G470, D471, R473', 'N199, N278, D281, N282, A283, K284, S364, G365, G366, D367, I370, V415, L440, G443, G444, T446,  G457, G458, D459', 'T52, K53, Y55, F56, K67, L73, N74, C75, T76, D77, H100, E101, V105, G299, S300, L301, P302, I304', 'K591, T605, K606, I607, P608, A609, E610, T611, L612, T617, E619, N652, V654, I655, T656, E657, S662, K663, M664, M665, E667', 'H33, G34, N37, Y38, R39, W81, R91, L93, T107, N111, K114, K115, I116, S118, D119, G120, N121', 'R142, V143, T164, F165, Y166, L168, D169, I188', 'A18, E45, D49, A51, A52, I54, Y56, E58, E60, D61, N63, Q66, V68, H69, V111, R113, M115, S117, Y118, G119, A121, Y123, R125', 'T448, G449, Q450, R453, T472, R473, N474, A477, L478, S498, P499, Q503, P504, R506, N522, D523, D524, E527', 'Y13, D15, S16, L17, L18, H19, A20, I22, P23, L26, R27, T32', 'K200, G204, G205, S206, E208, K215, V216, I217, N218, N219', 'K96, E101, E105, N278, T280, N281, N282, A283, K284, S365, G366, G367, D368, I371, G423, D451, G452, G453, A454, N455, N459, E460, T461, R463, G467, N468', 'P169, F172, Q173, L176, K180, D216, D218, A219, K222, H223, V224, K225, H226, L228', 'M358, S360, Q367, D373, R389, G394, R542, Q543, T605, K663', 'T122, N282, A283, K284, T285, S365, G366, G367, D368, E370, I371, N419, M420, W421, Q422, G423, G425, Q426, T449, R450, D451, G452, G453, A454, R463, G466, G467, N468', 'S27, P28, D29, R30, P31, S60, E61, L128, A129, P130, K131, A132', 'K176, N179, D223', 'Y68, G70, A71, Q72, G73, H74, G75, L83, R86, G186, I187, S188, I191, E192, T264, Y265, S267, Y268, V269, R270, Q361, I364, A365, E368, D369, K372, L373, S374, R375, F427, K431, E434, E435, R438, R508, E511', 'V119, L121, P123, T194, A198, L363, I419, R420, I422, I423, N424, V429, G430, R431, M433', 'Y54, S55, Q56, E57, S59, V60, L61, S145, A150, D152, S153, Q154, N212, Q219', 'H7, W8, A9, T10, R11, Y68, A71, Q72, Y268, R270, K271, D272, Q273, D274, F427, D430, K431, E434, E435, R438, G439, I441, K443', 'K230, Q231, G232, T233, P234, E235, M237, R238, Q239, I241, E242, A262, M263, L266', 'K90, E127, L152, K153, H156, I157, Y160, Y161, K162, E186, K189, L190, S193, Q194', 'S138, S139, P141, N142, K171, G172, S173, S174, Y175, P176, K177, S179, K180, S181, V183, N211, E260, T262', 'R39, Y41, W80, W81, K91, L93, K115, I116, S118, G119, G120, N121, N124, K134', 'S50, Q52, D53, R55, R56, F59, L60, H62, L63, I64, E66', 'M794, T797', 'R329, P330, N331, D332, P333, T334, Y342, P343, N345, I367, I369, A370, S371, N400, T401, W403, K434', 'D7, Y14, E15, L17, K18, L19, N22, Y24, R27, Y42, F44, A45', 'K66, L75, D76, I78, D79, P90, H91, V94, F95, R106, K108, F110, G158, D287', 'T280, N281, N282, S365, G366, G367, D368, I371, T449, R450, D451, G452, G453, A454, N459, T461, R463', 'K10, V11, L12, N13, N14, P15, A16, K17, D20, P21, E23, E25, I60, V62, G63, P64, P66, N70, K71, F72, V73, S75, V136', 'R37, S38, P39, N40, E42, T43, T45, W47, D77, I79, T80, G81, G82, P83, H87, K90, Q126, P127, D128, P129, L131, L156, P220', 'T359, T363, K365, K390, G391, D392, R395, R426, Y436, G482, Y484, T485, T486, T487, G488, I489, G490, Y491, Q492, Y494', 'P28, Q49, A50, V51, P52, T53, G54, I55, P56, A57, S70, Y71, P73, S76, Q78, S79, R81, A94, L118', 'T25, A26, E28, Y34, D45, S46, V47, T48, V59, R61, S62, L63, K83, N122, A124, G125, H126, R127', 'K66, L69, G70, Q78, C79, I80, E81, N82, P83, D84, P85, Q87, V88, N89, M90, Y91, G94, C95, E97', 'I422, T425, L427, N428, C429, N430, E431, S432, L433, N434, G436, L438, A439, L441, F442, Y443, Q444, H445, K446, P505, S528, W529, A531, Y613', 'S60, E61, N66, Y68, Q75, T76, D77, K78, E84, D85, R86, S87, Q88, P89, G90, Q99, L128, K131, A132, I134, E136', 'K67, C68, S69, S70, D71, M72, N73, G74, Y75, Y83, V85, D86, S88, Q89, N90, V101, R102, E104', 'I54, Y56, E58, M59, E60, D61, K62, N63, Q66, H69, D73, K75, V76, H78, R113, M115, S117, A121, Y123, R125', 'S251, S252, S253, F256, K275, T276, S277, G278, M284, F286, C287, K288, V289, A290, G291, C292, E293, H294', 'E120, A124, G125, L126, G127, L128, F129, R130, V132, R133, R136', 'E293, W296, E297, L300, S301, K304, N305, N306, I307, N308, N309, K311, N312, I313', 'P579, E580, A581, D582, Q583, D592, P593, P594, F595, K615, F616, P617, D618, E619, E620, G621, A622, C623, Q624, P625', 'F43, M44, D89, L92', 'R108, N109, V110, G111, S112, Q113, L115, N180, I185, N189, S236, S237, R239, P240, G241, I242, L244, W245, H246', 'E238, P249, T250, L260, D261, R263, C264, V265, E266, T267, C268, P269, P270, P271, Y272, H274, N308, N309', 'D7, D11, K14, A15, L18, F21, L22, R48, Q51, I55, R58, I59, T62, Y63', 'K30, K33, E34, L36, N37, Q40, L43, P70, K71, D72, E73, L74, D75, Y76, I80', 'P75, E76, H79, Q107, P108, M110, K111, L112, G113, T114, Q115, T116, V117, P118, C119, T148, L150, R194, R195, F196, E198, A199, C201, E233, K234', 'V300, M301, K334, P336, F337, S338, T339, Q340, E342, K343, G344, A345, T346, Q347, G349, R350, L351, P372, V379, A382, G383, E384', 'T134, N135, I320, I321, G322, D323, I324, R325, Q326, H328, T412, P414', 'L301, K303, L385, H386, V387, E388, D389, L392, I480, K501, E503, P506, E508, V509, K511, K512, D517', 'E111, D113, R115, Q116, R118, G253, R254, A278, Q279, Y283, D296, Y299, Y301', 'F2215, T2216, N2217, M2218, F2219, R2234, R2239, Q2241, V2242, S2269, L2270, L2271, T2272, H2334, Q2335', 'L155, A186, R189, V288, K289, Q290, R291, G292, D294, V297, E298, F299, H301', 'K305, F306, S307, I308, D309, K310, E311, M312, K323, K325, E327, G328, A329, T361, N362, V364, N366, S385, L387, T388, L389, H390, W391', 'K147, V149, T150, A151, G157, A158, K159, W167, A203, D204, Q206, S207, L208, K236, D239, Q240', 'S314, E316, K317, F318, P319, Q327, L328, V329, C330, W331, Q332, A333, T335, P337, I340, T375, D378, C380', 'L51, P93, R140, P143, G144, H145, K148, E152, E157, F160, K176, E177, D178, E179, L180, G181, D182, R183, M186', 'R32, H33, G34, N37, Y38, R39, W81, R91, N92, L93, N95, T107, N111, K114, K115, I116, S118, D119, G120, N121', 'E101, H104, T105, I108, N272, T274, N275, N276, A277, K278, T358, G359, G360, D361, I364, M415, W416, R418, V419, T444, R445, D446, G447, G448, N449, T450, N451, S452, R454, E455, R458, R465', 'E44, T47, F48, V50, C62, D63, P64, C65, I66, P67, V69, H80, S83, C84, T97, I98', 'V1533, K1534, K1535, Q1536, P1538, Q1539, D1548, E1549, R1550, E1551, C1553, G1563, D1564', 'S54, P55, H58, D59, V195, G196, S234, V235, D236, Q237, E238, S264, Q265, E266, K267, E269', 'E56, G68, E70, R101, G102, S103, K104, P105, D107', 'L125, V126, P129, A130, P191, I192, G194, I195, E196, T197, D198, V199, D200, N201, N204, T210, E212, R213, Q355, T356, Q359', 'D159, T161, Q162, F164, Y165, Y167, A168, S169, Q190, S191, F194, T240, H241, F242, N243, E247, Y249', 'S360, D361, S362, R363, R389, G392, G394, V443, K541, P644', 'K96, E101, N278, T280, N281, N282, A283, K284, K357, S365, G366, G367, D368, E370, I371, N419, M420, W421, G423, R450, D451, G452, G453, A454, N455, N456, T457, N459, E460, T461, R463, G467', 'T197, N275, T277, N278, N279, A280, N282, H350, F351, S363, G365, D366, V369, Q425, I427, R453, D454, G455, G456, S457, N459, T462, E463, T464, R466, G470', 'E49, L50, W88, E121, R123, P131, H134, R135, V136, H138', 'A32, G33, Y36, Q37, W39, E40, R43, Q47, F65, M67, Y68, Y87, P89, W90, R113, H115, E119', 'Q56, E57, S60, R61, E63, N64, Y65, R66, K69, R72, M73, Q113, V150, R154', 'P29, W30, H32, V33, N34, I36, Q37, E38, R40, R41, H100, Q103, H104, P106, D129, L131, L132, V133, I134, F136, D137, C138, E140, P141', 'K477, P479, Y480, K481, L482, S483, T484, K485, N561, D562, L563, R566, K567, K583, E689', 'T27, Q28, P29, W30, H32, V33, N34, Q37, E38, R41, H100, Q103, H104, F136, D137', 'K349, E369, D371', 'K42, F43, M44, D45, Y47, Q48, R49, Y51, K127, C130', 'M138, H140, F141, G142, N143, D144, W145, E146, D147, R148, K204, R208', 'R32, H33, G34, N37, Y38, R39, W80, W81, L93, N95, T107, N111, K114, K115, I116, S118, D119, G120', 'R80, R111, S112, R113, Y114, E116, S134, L135, Q136, R138, P140, T196', 'H25, H45, V47, N48, L49, T332, D362, G363, W364, Q381, T384, Q385, I388, N389, T392, V395, N396, I399, E400', 'R199, Q222, K223, E224, P225, P226, F227, W229, M230', 'L372, P373, Q408, H433, F436, A439, V441, S442, I463, S464, G465, K467, T488, K489, I490, I491, N493, N497', 'P330, N331, D332, P333, T334, Y342, G344, N345, I367, I369, A370, S371, S373, N400, T401, W403', 'T134, N135, N136, D319, I321, G322, D323, I324, R325, Q326, H328, T412, P414', 'S307, I308, K310', 'D32, P33, P35, R162, F164, D166, G167, K168, N169, S172, Y213, K215, I217, K256, E258, Y260, T262', 'R47, P48, P362, L363, E370, Q371, S575, I577, K578, Y579, D580, E581, N582, G583, N584, P585, W586, S587, F609, A610, D611, T613, A706, R974', 'K96, E101,  T280, N281, N282, A283, K284, S365, G366, G367, D368, E370, I371, N419, W421, G423, D451, G452, G453, A454, N455, N459, E460, T461, R463, G467', 'R89, K90, A93, Q96, T97, A174, Q179', 'D25, I76, P77, H80, E81, Q84, F87, N88, S91, T109, Y112, Q113, L115, N116, E119, A120, V122, I123, Q124, T129, M134, E136, I139, R143', 'P123, H124, I126, Q127, N130, S131, V132, D133, M134, T142, D143, A144, V147, K148, D149, P150', 'Q52, Y63, Q157, D164, S165, D240, P246, R247, F248, I249, N252, V256, S260, I263', 'T134, N136, I137, T138, D323, I324, R325, Q326, A327, H328, T412, L413, P414', 'K132, S133, N134, K135, D136, R137, D138, T139, S194, V195, E196, D197', 'L12, E23, E25, D37, D58, S59, I60, L61, V62, G63, P64, P66, N70, K71, F72, V73', 'P317, M318, I319, N320, E329, N330, V331, D332, I334, E336, K358, E360, Y362, K364, E366, R372, E376, H378, T380, R381', 'W37, D40, P42, G43, M45, L62, Q64, S65, E67, L69, T76, I77, Q78, K80, E81, G83, D84, Y88', 'A336, L337, G338, P339, A340, A341, T342, E344, E345, T348, A349', 'P64, I65, C66, F68, C72, C73, K77, C78, G79, M80, C81, C82', 'D317, A324, S327, P330, E331, F332, D334, W337, G339, S340, A343, W345, Y394', 'K2202, D2206, R2228, H2230, Q2232, G2233, R2234', 'L64, W72, M73, C74, Y75, K77, T78, F82, I84, N89, L92, P93, G95, C98, W99, N102', 'D36, N37, G40, S42, N45, G120, G135, D137, V138, Q139, L147', 'R199, K223, E224, P225, P226, F227, W229, M230, G231', 'N63, I64, K65, E66, K68, C69, N197, D200, K201, Q202, L204, P205, I206, N208, K209, Q210, C212, E295', 'D55, G56, Q57, F58, C59, H60, K61, P62, C63, P64, P65, T74, V75, N76, G77, Y91, T92, D93, K94, A95, H96, F97, R102', 'L121, T280, N281, N282, A283, K284, S365, G366, G367, D368, E370, I371, N419, W421, G423, G425, Q426, T449, R450, D451, G452, G453, A454, N456, R463, G467, N468, K470, R474', 'T455, S1093', 'S36, V37, L38, S71, W72, G74, H75, I77, A78, P81, T82, K84, E85, A142, G143, A144, N145, V146, T148', 'G62, N61, V63, P65, R69, E85, N88, E91, P90, H126, E128, Y287, N289, N291', 'L57, L83, E84, E86, A112, S115, S116, F117, V118, P119, P173, M174, S176, H177, M224, E226, P227, S228, F229', 'Y190, R201, P202, R203, D204, D205, F206, F207, H209, A211, M221, E222, W224, K246, L247, D250, R252', 'F56, H57, E66, V78, G79, A80, R81, E83, H84, A85, D86, L87, L88', 'K432, T433, G434, Q435, E436, E440', 'T455, R456, D457, G458, G459, S461, N462, E466, I467, R469, G472, G473, D474, R476, D477, V275, D279, N280, A281, K282, S365, G366, G367, D368', 'M310, E311, P328, K329, A330, G337, K356, L358, T394, G419, G420, R421, L423, R426, G427, S450, A451, G452, R475, G476, P477, R481', 'K501, F502, S503, Y504, I505, R506, T507, K511, L513, R515, E517, Q573, N574, H575, L579, R581, D618, T731, E733', 'V332, A333, P334, A335, Q337, P350, R351, D353, L354, R356, A357, T358, E361, A362, R365, K370, P371, F372, D373', 'N37, R39, G40, Y41, S42, G120, N121, G122, N124, R130, K134, G135, T136, D137, V138, Q139', 'I573, K574, Q577, R633, N636, S640, H643, H564, Q567, L568, T569, W571, G572, K574, Q575, L576, A578, R579', 'V124, Q127, H128, P129, A130, D131, S133, W134, D139, W143, Q146, W156, Y157, R167', 'E56, N65, I66, G68, D69, E70, S77, Y99, R101, G102, S103, K104, P105, E106, D107', 'L21, V22, K24, N25, K46, Q47, Q48, Y49, K51, Y68, Q70, I72, L76, N78', 'T134, N135, T137, N333, R335, H338', 'N501, K502, S504, F506,  D510, E513,  P531,  W535, E536, D537, G538, D539, Y540, Y541, R542,  W553, V555, S557, G558, S559', 'L514, E517', 'H129, R130, G131, E132, F133, S134, S138, S140, V141, W142, G144, Y173, F175, T177, T227, A228, C229', 'K85, P86, K87, Y88, I89, S90, D91, G92, N93, R107, G108, I109, E110, Q122, Q123, D124, N153, A154, L155, K156', 'P373, R377, Q408, Q432, H433, S442, S464, K467, K489, I491, S492, N497', 'G147, V148, S149, A150, W166, T168, G169, N171, G172, L173, N200, G202, D203, R205, A206, L207, K235, D238, R239, E240', 'T76, G106', 'R198, G199, L205, Q220, D221, L222, M230, Q237, M238', 'K96, L121, T122, T259, T280, N281, N282, A283, K284, S365, G366, G367, D368, E370, I371, N419, M420, W421, T424, G425, Q426, T449, R450, D451, G452, G453, A454, N455, N459, E460, T461, R463, G465, N468', 'K51, L52, E54, F55, V56, Q57', 'D116, P119, D150, R151, A152, T153, N155, R156, R157, T158, D161, G162, I164, Q166, K208', 'N60, D62, R63, Y64, D93, N94, I95, N96, D130, F132, K134, K135, V136', 'Y110, E147, M148, Q175, D176, D180, G181, F207, N228, V229, Y230, S231, K233, Y234, N235, Q237, T242', 'S180, N181, S182, Y184, E216, Q242, R243, G244, G245, R246, Q247, T248, E283, S284, H285, N287, L318', 'T731, S732, F733, H734, Y742, E743, P745, W746', 'H143, F144, G145, N146, D147, Y148, E149, D150, R211, Q215', 'I314, G315, P316, G317, R318, F320', 'L121, T270, N271, N272, A273, K274, S355, G356, G357, D358, E360, I361, M416, W417, A420, G421, Q422, T445, R446, D447, G448, G449, K450, D451, R459, G463, R466', 'Y302, S306, K307, A308, F309, T330, G331, T332, D333, A365, T366, A367, N368, G389, E390, Q391', 'D141, P144, D175, R176, A177, T178, N180, R181, R182, T183, D186, G187, E191, R232, K233', 'V148, S149, A150, W166, T168, G172, D203, R205, A206, L207, H209, T210, E211', 'N253, N254, K258, S261, S262, Q263, S264, S384, Q385, E548, K556, S658, T659, T660, V708, N717', 'E50, R52, V67, Y69, Q77, Y79, S80, K81, T82, G83, E115, M117, Y118, Y122', 'H90, D113, Y116, P117, F118, T119, D121, R124, V136, V285, A327, V328, K331, E334, E335, M347, A350, Q351, G353, E354, I355, M356, P357, N358', 'K96, E101, L121, T122, V202, N281, N282, K284, G367, D368, I371, G423, T424, G425, G467, N468, K470', 'G65, K66, L75, D76, I78, D79, P90, H91, V94, F95, R106, K108, F110, P159, D287, P289, I290, D291', 'L597, K630, P632, A633, Q634, V637, D638, Q640, T641, L642, T643, P644, L648, D674, Y676', 'V527, S528, I529, V530, P531, S532, W535, E536, D539, Y540, Y541, R542', 'Q244, F346, P348, G349, I350, R351, P352, E354, P355, K358, F359', 'E560, Q563, H564, L565, Q567, L568, W571, G572, K574, Q575, L576, R579, M629, D632, N636, S640, H643, I646, E647, V570, I573, K574, Q577', 'E89, G90, R91, W92, R93, I95, P96, V99, H112, P116, P117, M118, P119, S120, R122', 'F316, P317, M318, I319, N320, V323, E329, N330, V331, D332, I334, V325, E336, E360, Y362, P363, K364, E366, R372, E376, H378, T380, R381', 'T29, V30, S31, L32, W33, T35, V36, W39, R40, R43, E68, P137, E138, L141, L142, Y145', 'N149, N150, I151, W152, N153, T154, P155, R158, Q163, V202, E206, F208, R218, N224, R225, E227, D549', 'H33, G34, Y38, R39, W81, R91, L93, T107, N111, K114, K115, I116, S118, D119, G120', 'V90, V93, S94, R97, D98, E101, L102, L163, K166, V167, L168, A170, D171, G173', 'N265, T267, N268, N269, A270, K271, K344, E349, S352, G353, G354, D355, I358, V414, L439, R440, D441, G442, G443, Q444, T453, R455, G457', 'R39, Y41, N121, N124, R130, K131, K134, G135, T136, D137', 'E8, K30, R116, H134', 'A317, I318, I319, G320, N321, R323, Q324, H326, Q415', 'T599, A600, A601, F602, T603, F604, Q621, Y622, A623, G624, T625, D626, G627, S658, E660, N661, E683, K684, K685, I686, T687', 'T141, T143, G144, G145, S146, R147, P155, W163, T165, K166, G168, S169, N196, D197, E198, T199, E200, R202, T203, L204, K232, G235, L236, G237, S238', 'K96, E276, N277, K279, D280, N281, A282, K283, S364, G365, G366, D367, I370, V427, T452, R453, D454, G455, G456, S457, S458, T459, R467, G470, G471, D472, R474', 'H447, V490, F491, N492, P493, S494, D576, W618, G619, D620, R624', 'I87, S88, E89, D90, G91, H106, D109, L110, L111, F112, L114, R115, T117', 'T501, F502, V503, L504, K505, K506, E507, V508, E521, K523, K557, K581, L583, K584, I585, N586, W587', 'V410, L412, A414, Q415, R416, L418, C419, H434, C435, D437, G438, L439, Y475, V477, S478, E479, G480, D483, E527, K528, D554, Y555, D572, A573, C574, K575, S578, S597, W598, G599, E600, G601, C602, R604, G609', 'F42, R45, R46, I48, D49, R50, I51, Q52, K70, K72, W83, R86, M87, V90', 'T331, N332, Q411, Y412, L415, K416, G439, T440, T445, P446, Q447, E452, I453, L455, G554, T555, L588, K590, E664, K665', 'E663, G710, K807', 'S62, V64, F63, N66, Y68, Q75, T76, D77, K78, A81, F82, P83, E84, D85, R86, S87, Q88, P89, G90, I126, L128, A129, K131, A132, I134', 'A279, Q281, A282, S335, P337, G340, R341, V342, I365, D367', 'R155, R158, M159, K161, K162, L163, L164, V166, P167, A168, A169, N170, T171, V172, R173, R175, P177, K205, R207, Q210, V214, E216, Y241, R248, Y278, S279, D280, A281, Q282, P283, S314, E315, S316, V317, E318', 'V505, N506, A507, Q508, K510, C511, N512, P513, N550, Q551, D552, G553, C556, G557', 'K324, Y325, R402, G405, P406, E458, F459, R460, P461, D462, L463, E465, M466, D469', 'E43, Q44, T93, A94, Q95, F97, H98, R99, K101, Q102, R105', 'W144, R147', 'V116, P117, R161, D162, I165, V195, G198, E200, V207, K215, K216, W242, V246, R250, K276, D277, P278, K279, T280, G281, T282, Y283, F288, P289', 'T45, G46, L47, E49, N50, V53, D56, D57, N58, L85, G86, N87, N115, Y117, R137, F204, N205', 'N7, V8, K10, A11, D59, D60, H62, E166, V169, M171, G194, T212, H232, K234, W235, R251, K252, G253, K254, I255', 'P403, E407, N410, L411, S513, A514, L515, E516, E519, T520, K562', 'Q167, K168, Q172, R181, Q182, Y183, R184, L185', 'K87, R107, K156', 'C119, V120, L122, V200, T202, Q203, R419, K421, Q422, I423, M434, P437', 'A110, E111, D113, R115, Q116, R118, G253, R254, T255, S276, N277, A278, Q279, G280, D282, Y283, I285, D296, N297, Y301', 'K96, N278, T280, N281, N282, A283, K284, S365, G366, G367, D368, I371, Q422, G423, R450, D451, G452, G453, A454, N459, E460, G465, G467, N468, K470', 'Y108, T146, G147, V148, S149, A150, S158, W166, T168, N171, H196, P199, N200, D203, A206, L207, Q239', 'Y2009, Y2018, E2021, N2031, T2032, E2033, D2034, G2035, F2036', 'L32, F33, W36, K64, Y65, Y84, P86, W87, R108, P110, R111, G112, Q113, W115, R116, A118, Q122', 'E101, H104, T105, N272, T274, N275, N276, A277, K278, T358, G359, G360, D361, I364, M415, W416, R418, V419, T444, R445, D446, G447, G448, N449, T450, R454, T456, R458, D463, R465, R469', 'P155, D192, R194, E197, A220, S221, R237, D238, A239, I369, S372, D374, C375, S376, T377, C378, F379, V380, S381, Q382', 'T134, N135, N136, M141, D319, I320, G322, D323, I324, R325, Q326, H328, P414', 'L363, K364, I365, L368, T399, K402, I403, R405, F406, V408', 'T254, W255, S256, R257, A258, S259, G260, K261, P262, Q298, C299, R300, T302, P307,  A309, L310, M311', 'D10, S12, S14, R78, Q79, T80, D113, H117, R147', 'I108, W111, V251, A277, S360, G361, G362, D363, E365, I366, S370, F377, Y379, K408, M413, E416, G460, D461, M462, R463', 'K310, A313, E314, T315, Q316, H317, L321, I352, A354, E368', 'Q95, Y97, P98, P100, V108, A131, E132, R133, Q134', 'S137, E141, K143, Q150, D151, E153, Q154, E180, K181, N182, N245', 'R89, N90, K92, A93, Q96, T97, R99, A100, G103, T104, R106, G107, Y108, N110, E113, I166, R169, K170, V174, Q179', 'T50, L305, G307, I309, D310', 'I233, D234, K235, S236, E237, G238, R239, F240, H241, V242, L266, K270', 'D204, E205, V207, Q208, G211, A212, D213, G214, L215, G216', 'W144, R147, N152, R155', 'R194, E195, D238, A239, K243, A341, Q342, P364, E366, D367, I368, I369, C375, S376, T377, C378, F379, S381', 'Y305, A333, T335, E370, N371', 'Q95, P98, P100, F101, E132, R133, Q134, E141', 'S153, P155, R194, E195, E197, R237, D238, I369, D374, C375, T377, C378, F379, S381', 'L504, K506, V508, K519, E521, K523, P528, L583, K584, I585, W587', 'Y114, T147, N149, G150, G151, S152, N153, S161, W169, T171, K172, Q205, E206, S209, L210, L242', 'K56, E57, Q90, Y91, R92, V93, Y94, S95, E96, G98, A105, K231, A233, D234, P239, R279, W300', 'T50, L51, F52, C53, A59, H60, T70, H71, A72, C73, V74, P75, T76, D77, Q102, E105, D106, S109, D112, Q113, Y219, P222, A223', 'S294, S295, Q296, Y297, S298, T299, S302, G318, E319, S321, R323, E324', 'Q70, F71, L72, Y73, F74, F95, K96, K98, D99, D102, K103, K105, K107, K125, N245', 'S40, I47, V51, T54, Q55, N56, L133, L134, K137, K138, F140, R141, E142, G143, F145', 'M34, I35, Q36, P37, E38, K39, L40, H52, T54, T56, M100, D101, P136, G137, P175, D177, V231, Q234, G235, D236', 'C118, V119, L121, V196, T198, Q199, A200, C201, R406, I407, K408, Q409, I410, M421, P424', 'N365, L369, L370, R372, A374, S375, P376, P377, P379, D383, Q385, N386, W388, F389, T397, P449', 'Q28, P29, W30, H32, V33, N34, I36, Q37, E38, R40, R41, H100, Q103, H104, P106, D129, L131, L132, V133, I134, F136, D137, E140', 'F953, R1064', 'A117, R120, S121, L122, R127, Q131, E153, Q155, F162, N169, D170, E221, N224, T263, M264, Q265, F266, V267, S268, S269', 'Q197, E199, S200, D202, K210, E212, K213, R214, Q232', 'D517, E520, Q609', 'L121, T122, N278, T280, N281, N282, A283, S365, G366, G367, D368, E370, I371, N419, M420, W421, G423, T424, G425, Q426, T449, R450, D451, G452, G453, A454, N455, N456, N459, E460, T461, R463, G466', 'W95, K96, E101, T274, N275, N276, A277, K278, G361, G362, D363, I366, N412, M413, W414, E416, V417, G418, T442, R443, G446, K447, D448, G459, G460, D461, R463', 'E274, T277, N278, N279, A280, K281, S363, G364, G365, D366, V369, Q425, I427, R453, D454, G455, G456, S457, R466, G469', 'T34, W35, Y36, V59, E60, E61, K63, E71, L73, Q75, E81, C82, A83, Q84, K85, K86, T141, P142, E143, P169, T170, L172, E173, E174, Q175, H177, I178', 'L181, V183, V184, P185, L186, E187, K189, N193, N196, T198, I203, N204, N206, T207, S372, G373, G374, D375, P376, E377, I378, N393, Q421, R423, N429, Q432, G433, V434, G435, T459, D461, R473', 'C119, K121, V200, T202, Q203, R419, K421, Q422, I423, M434, P437', 'K691, H692, S693, V694, V695, K697, C698, D701, C704, E709, R714, R717, I718, S719, L720, G721, P722, R723, C724, F728', 'M346, T349, F350, N372, Y375, N395, V417, V419, K420, T421, I422, D423, Y424, Y428', 'W95, K96, E277, A283, K284, T285, S365, G366, G367, D368, L369, I371, T372, Y384, K413, K415, I417, T449, G465, G466, G467, N468', 'L57, E58, L83, E84, D85, E86, T111, A112, D113, S115, S116, F117, V118, P119, P173, M174, S176, H177, E226, P227, S228, F229', 'L45, T50, G51, V178, M264, P265, I266, T267, N268, D269, Q270, K272, L273, L305, I309, D310, T311, P312, D344, N345, A346, G347, R364', 'I147, V149, D150, Q152, I154, L156, Q180, S182, E183, H184, G186, K187, M188', 'D49, A51, A52, I54, Y56, E58, Q66, V68, H69, R113, M115, S117, G119, G120, A121, D122, Y123', 'P123, H124, I126, Q127, N130, S131, V132, D133, M134, T142, D143, A144, V147, K148, D149, P150, Q151', 'K65, E66, N67, K68, C69, N197, D200, K201, Q202, L204, P205, V207, N208, K209, S211, C212', 'T49, T50, L51, F52, C53, A59, V67, T70, H71, A72, C73, V74, P75, T76, D77, P78, Q102, E105, D106, Q113, Y219, P222, A223', 'T147, G150, S152, S161, W169, T171, K172, S173, G174, E206, S209, L210, L242', 'C118, V119, V196, T198, Q199, C201, K408, Q409, I410, M421, P424', 'K10, V11, L12, N13, N14, P15, A16, K17, D20, P21, E23, E25, F28, I60, L61, V62, G63, P66, N70, K71, F72, V73, S75, V136', 'D23, K29, Y30, E31, C32, L33, K34, L35, N38, Y40, R43, Y58, A59, F60', 'S452, R455, K481, Y482, I483, P484, Y485, T486, L487, S489, F491, N492, D495, H496, N636, R644', 'R45, G46, A48, N69, K70, L74, R77, L80, P83, G87, Q88, V89, Q91, V92, S93, H94, R125, S127, E128, F165', 'E25, N27, A28, S29, Q31, T32, K33, D35, S58, A59, D60, A61, D62, K125, K127, S153', 'T62, K64, R86, Y88, R115, F136, G138, F140', 'E100, G101, R102, W103, R104, I106, P107, H123, P127, P128, M129, P130, S131, R133', 'K87, D91, R107, E110, K156', 'K588, S591, E592, T593, Q594, H595, L599, I630, A632, E646', 'K585, F586, K587, I588, V589, K590, E591, I592, R603, E607, E640, K641, D642, P644, G665, L667, K668, L669, N670, W671', 'S31, P32, P33, S34, E55, K56, D57, D58, F59, H60, H61, V65, P66, R67, R92', 'D36, N37, G40, Y41, S42, N45, G120, N121, K134, G135, T136, D137, V138, Q139, I142, R143', 'N9, I10, E11, T12, K13, K14, D75, Y76, H80, L81, I82, D83, V84, Y85, K86, Y87, S88, G89, E90, Q122, L124, D125, K163, T187, P188, N190', 'I224, E257, K278, N295', 'F449, S452, R455, K481, Y482, P484, Y485, Y488, S489, V490, F491, H496,  N580, N636, D639, D643, R644', 'S54, P55, H58, D59, W62, V195, G196, S234, V235, D236, Q237, E238, S264, Q265, E266, K267, E269', 'D84, E85, I87, N88, P90, H126, E128, K129, I130, Q131, K135, Y153, Q154, R161, T183, N184, Q185, E186, Y268, K271, V273, K274', 'T277, N278, N279, A280, K281, R358, S363, G364, G365, D366, V369, Q425, I427, R453, D454, G455, G456, S457, T458, N459, S460, T461, T462, R466', 'W95, E277, N278, L279, T280, N281, N282, A283, K284, S365, G366, G367, D368, E370, I371, N419, M420, W421, T449, R450, D451, G452, G453, N455, G465, G466, G467, K470, R474', 'K93, N271, T273, N274, N275, A276, S357, G358, G359, D360, E362, I363, N417, M418, W419, D449, G450, G451, N454, R461, G465, M467', 'Y108, G147, V148, S149, A150, G156, E157, S158, W166, T168, K170, N171, G172, P199, N200, D203, A206, L207, H209, K235, D238, R239, E240', 'I66, E67, Y88, I91, E113, R115, F136, G138, F140, E163, K189', 'T48, D49, E51, A56, D57, Y58, S59, M60, P61, V63, N64, R84, V85, A86, N87, P89, F90, S91', 'I25, W29, E30, C31, E32, K33, S35, Q36, W38, H82, D134, K137, Y153, K169, K170, C173, D175, G204, G205, N220, G221, V222', 'K590, P612, L667, L669, W671', 'T476, A477, E479, Y485, D496, S497, V498, T499, V510, R512, S513, L514, K534, N573, A575, G576, H577, R578', 'Y295, F297, A382, D385', 'N278, T280, N282, A283, K284, S365, G366, G367, D368, I371, G423, T449, R450, D451, G452, G453, N455, R463, G467', 'K585, F586, K587, V588, V589, K590, I592, Q605, P644, K668, N670', 'I10, E11, T12, K13, K14, H80, L81, I82, D83, V84, Y85, K86, Y87, S88, G89, E90', 'I659, D661, R662, N704, D705, F706, T707, F708, Y755, P781, Q782, Q783, I784, T785, P786, R787, S800, C801, Q802, W826, G827, D828, G829, C830, G837', 'T50, L51, F52, C53, T70, H71, A72, C73, V74, P75, T76, D77, P78, Q102, E105, D106, Y219, P222, A223', 'T134, N135, N136, D319, I320, G322, D323, I324, R325, Q326, H328, P414', 'N54, T334, E360, G361, I363, D364, G365, W366, R370, Q379, A380, A381, L383, T386, Q387, I390, I393', 'H33, G34, N37, Y38, R39, W81, R91, L93, T107, N111, K114, K115, S118, D119, G120, N121', 'T50, L51, F52, A57, A59, W68, T70, H71, A72, C73, V74, P75, T76, D77, P78, Q102, E105, D106, Q113', 'K245, H251, V254, K260, E264, S267, E268, E269, T270, K271, K272, I274, F275, G276, E277, K289', 'V49, K50, E51, M53, H54, L56, Q58, I60, M61, Q71, Y99, L102', 'L97, Y108, H109, M110, N111, P114, Q116, V147, P149, I150, V151', 'T41, Y45, P46, Q47, F72, N73, P74, H75, F76, E77, N107, A133, S136, R138', 'Q41, T43, N44, R45, N46, T47, D48, G49, Y53, G67, K68, T69, P70, L84', 'E120, A124, G125, L126, G127, L128, F129, R130, V132, R136', 'T359, S362, G391, D392, N424, R426, N427, T486, T487, G488, I489, G490, Y491, Q492, Y494', 'R568, R660, Y661, Y665', 'T254, W255, S256, R257, A258, S259, G260, K261, E293, E295, Q298, R300, M311', 'P330, N331, D332, P333, G344, N345, I367, S368, I369, A370, S371, N400, T401, W403, K434', 'I1738, T1739, T1740, I1741, D1742, P1744, W1745, N1746, D1772, F1776, R1779, M1785, H1786', 'R28, R29, E51, A54, V70, E73, L95, S96, D98, E115, R141, W157, W183, N185, A201, P225, H226, F228, W242, S243, F266, M269', 'P39, I47, V51, T54, Q55, K58, K130, L133, L134, K137, F140, R141, E142', 'R32, H33, G34, D36, N37, Y38, R39, W80, W81, R91, L93, N95, T107, N111, K114, K115, I116, S118, D119, G120, N121', 'E53, Y55, K57, D64, T67, D69, A71, L72, K74, T76, V77, T117, L119, T120', 'R41, K42, I43, S44, Q46, R47, T68, I69, V70, A71, K72, I74', 'D36, N37, G40, Y41, S42, N45, G120, K134, G135, T136, D137, V138, Q139, R143, L147', 'R280, M281, A282, W283, P284, Y339, V341, G342, L343, P344, E366, D367, T374, R375, E378, L379, G381, L382, Q384, V391, L393, P395, H397', 'Y116, P117, F118, D121, R124, Y197, G200, K201, Y202, K282, K331, E334, L337, A338, A344, A345, M347, E348, A350, Q351, G353, E354, I355', 'K64, Y66, G67, V68, K69, N70, S71, E72, W73, D93, S95, S97, W99, R101, K115, S116', 'K96, E101, E277, N278, T280, N281, N282, A283, K284, S365, G366, G367, D368, I371, T424, T449, R450, D451, G452, G453, N455, R463, N468, K470', 'S164, M165, S166, L167, Q168, P169, K225, H226, M227, L228, L229, L230, T231, D264, E266, A267, T268, K288, H289, K293, E294, T298', 'T122, T280, N281, N282, A283, K284, S365, G366, G367, D368, E370, I371, N419, M420, W421, R450, D451, G452, G453, A454, N455, N459, E460, T461, G467', 'I88, F127, Q133, E134, A136, E137, A138, T140, H141, T144, Q147, N148, R149, T151', 'K96, E277, N278, T280, N281, N282, A283, K284, Q362, S365, G366, D368, I371, W421, T449, R450, D451, G452, G453, A454, N455, R463, G465, G466', 'H52, K54, S56, N57, Q58, I59, K60, K71, G72, P73, S74, K75, N77, D78, R79, E102, I108, K115', 'R213, H214, T218, R219, L220, E221, R222, C223, Q224, R248, Q249, S250', 'E128, E129, D130, P131, R135, Y137, T139, Y141, F142, N144, Q146, Q149, C150, E151, R152, K154, N161, E166, L168', 'E413, K414, D416, G417, K425, K428, V429, P430, P431, Q433, N434, K437, S438, D440, Q441', 'T157, N158, K161, K164, L166, H167, P170, A171, A172, N173, T174, V175, K176, R178, P180, K208, R210, H213, I217, E219, Y244, R251', 'T134, N135, N136, D139, I320, G322, D323, I324, R325, Q326', 'K349, D350, C354, P355, C356, D357, P358, E359, K372, C373, V374', 'K385, E386, C390, P391, C392, E393, P394, E395, N408, C409, V410', 'N278, T280, N282, A283, N355, K357, S365, G366, G367, D368, I371, Q426, T449, R450, D451, G452, G453, N455, E460, G467', 'S30, D31, N32, L33, W34, V35, T36, V37, Y38, Y39, V41, P42, Q81, I83, H84, L85, E86, V226, S246, V247, Q248, I485', 'S902, F917, N918, L919, E920, F953, N954, S955, I956, K1056, D1058, R1061, D1062, T1063, H1064, R1065, G1292, R1294', 'F52, A57, K58, A59, Y60, T70, H71, A72, C73, V74, P75, T76, D77, P78, P216, A217', 'K324, Y325, R402, A403, G405, P406, E458, F459, R460, P461, D462, L463, E465, M466, D469', 'N199, W205, P207, Y208, D209, D211, S212, W213, N214, P215, V216, Y217, R226, T289, N290, K292', 'S17, Q25, H27, V29, E31, Y32, D33, P34, T35, I36, E37, D38, S39, Y40, Q61, E63, Y64', 'Y116, F119, D155, G156, N157, D170, S172, Q173, E174, V175', 'N96, K194, D211, T212, A213, T214, E217, T220', 'K96, E101, N278, T280, N281, N282, A283, K284, S365, G366, G367, D368, E370, I371, N419, M420, W421, Q422, G423, D451, G452, G453, A454, N455, E460, T461, R463, G467, K470', 'N63, K65, E66, K68, K196, N197, Y198, I199, D200, K201, Q202, L203, L204, P205, I206, V207, N208, K209, Q210', 'E78, G79, L80, I87, E89, D90, G91, H106, W107, D109, L110, L111, F112, L114, R115', 'W91, K277, S280, D281, N282, A283, K284, I285, K356, S364, G365, G366, D367, I370, N410, M411, V415, L440, R441, D442, G443, G444, T446, T450, E451, I452, R454, G458', 'K96, L121, N272, S274, D275, N276, A277, K278, S358, G359, G360, D361, I364, V421, G422, Q423, T446, R447, D448, G449, G450, N451, T452, N459, E460, T461, R463, R470', 'S5, L6, L7, G8, I9, K10, V45, S47, S48, R49, L51, D52, V92, V94, L96, G110, Y112, V113, N114, N138, L140, A141, E142, K143, P144, R145, V146, T147, R148, F149', 'S173, L175, D176, P177', 'S535, V536, H537, T538, A539, P540, P541, A542, E543, A544, M546, G547, T548, R549, V550, H551, H553, Q554, H557, E567, V568', 'W95, K96, N97, E101, E271, T274, N275, N276, A277, K278, G360, D361, I364, N414, M415, W416, R418, V419, G420, Q421, T444, R445, G448, N451, G461, G462, D463, R465', 'K21, R134', 'Y44, K45, K87, R123, T125, E126, D131, G132, H133, H134, S135, E136, D147, T149, R153, R155, Y174, E176, S177, K178, A179, H180', 'D31, P32, A33, F34, A36, N37, S38', 'P85, N86, L87, G88, E107, G108, W109, H110, C119, V120, L121, H122, S124, Q133, I134, T136, S155, S156, A157, F158, E159, H162', 'T273, R274', 'R903, N918, E920, F953, R1064', 'D346, T348, D350, F352, S380, H381, S383, N394, G396, S398', 'H633, Y636, E637, E640, Q643, K644, E647, K648, Q651', 'K27, E71, P74, Q75, A78, T79, R92, G95, Y96, Q98, S99, L101, P360, S363, A364, Y367, A368, T371, N375, R380, Q381, E385, K388, D389, Q391, T392', 'T208, T210, S848', 'S65, I85, N86, V87, S88, G89, C90, S91, A92, I93, E94, K95, Q97, R98, M99, S101, G102, K107, S109, A110', 'Y305, S306, L307, T309, A310, A311, G334, T335, D336, K340, Q350, T351, L352, V391, G392, E393, K394, K395', 'W69, G71, H72, F76, R111, N114, P116, F118, P119, T120, R122, S132, G133, V135, P137, V138, A139, R149', 'D658, R661, E662, K664', 'R131, E359, A360, E361, D362, K379, Q380, E381, V382, N383, D386, A388, E422', 'I332, N333, D334, S350, Q351, L352, D353, Q385, N387, G388, E421', 'P120, F121, D124, R127, Y196, Y200, E201, N202, G203, Y205, V290, A353, Q354, G356, E357, I358', 'P249, T250, L260, D261, R263, V265, E266, T267, C268, P269, P270, P271, Y272, H274, N308, N309', 'N37, G40, Y41, S42, N45, G120, N121, K134, G135, T136, D137, V138, Q139, R143, L147', 'T31, C33, G34, G35, E36, V38, D39, L41, F50, R58, V59, R64, V67, E68, E69, C71, F72, R73, Y83', 'I1876, G1877, E1878, Y1887, Q1890, S1900, T1901, E1902, D1903, G1904, F1905, D1939, N1941, R1943, G1944, A1945, V1946, E1947, P1960, E1961, V2007, G2008, Y2009, Y2018, E2021, N2031, T2032, E2033, D2034, G2035, F2036, D2070, S2072, T2074, A2075, V2076, V2077, E2092, D2093, T2094', 'Y108, T144, G147, V148, S149, A150, W166, T168, G169, N171, G172, L173, N200, I201, G202, D203, R205, A206, L207, K235, D238, R239, E240', 'E363, Y394, D399, E400, R401, D402, P404, N406, W407, T416, M418, Q420, A421, W422, G423, L426, I441, G442', 'E429, R432, N433, E480, T481, N482, G483, L484, E485, L655, R656, S657, E658, P660, W662', 'R32, H33, G34, N37, Y38, R39, W80, W81, R91, L93, N95, T107, N111, K114, K115, I116, S118, D119, G120', 'H98, K109, S111, F112, D113, D114, I115, A116, V117, L119, Y122, K169, T170, E171, G210, K211, L212, K216, Q218, P219, T220', 'E238, P249, T250, L260, D261, R263, V265, E266, T267, C268, P269, P270, P271, Y272, H274, N308, N309', 'R199, H221, Q222, K223, E224, P225, P226, F227, W229, M230, R358', 'E56, E58, R60, H62, D65, E66, W67, A69, N91, R93, F94, L95, G99, M100, K101, N102, V103, F104, D105, D106, P120', 'E30, T34, T35, R44, N46, F47, K48, G49, G50, Y51, N59, E60, V62, L63, S64, H95, W96, N97, K98, K99, K100, Y101, S102, S103, Y104, E105, E106, K108', 'G199, N203, L205, Y218, Q220, D221, L222, G227, Q237', 'V365, M366, S367, R369, E389, L392, K393, L395, H396, G397, R398, K399, D403, D410, I412, K456', 'V238, K241, V243, N245, K266, H267, K271, R275, T293, I294, D295, T298, R299, E326, P328', 'R142, H145, E146, D149, E152, R153, D156, D157', 'S75, N76, L85, N131, R132, E134, Q180, A181, Q182, N183, Q184, W185, L186, Q187, D188', 'D53, L59, C60, G61, R63, E66, C80, R81, R82, D83, R86, Y104, E105, M106, T107, M108, R109, V110, V114, L117, F120, F129, C130, V131, G132, D133, Y135', 'N278, T280, N281, N282, A283, K284, S365, G366, G367, D368, I371, Q422, G423, T424, T449, R450, D451, G452, G453, A454, N455, N459, E460, T461, R463, G467', 'R7, H210, G211, P213, T275, P276, F277, L278, A279, R282, D297, T298, N299, L300, H353, P354, E358, P361', 'Y108, T144, T146, G147, S149, A150, S151, G156, E157, S158, W166, T168, G169, K170, N171, H196, P198, P199, N200, G202, D203, A206, L207, K235, R237, D238, G241', 'D231, G233, K250, I251, E252, H253, L254, K255, P257, N260, V261, D262, L283, Y284, N285, Q286, V313', 'L130, H132, F133, G134, N135, D136, Y137, E138, D139, K196, R200, Q204', 'P228, D229, N252, F253, I254, S255, R256, C257, L258, F259, Y260, E261, V274, F275, Y276, V277, Q278, E279, K315, T316, N317, K318, L319, C320, Y321, E322', 'I193, K202, A205, F209, K212, I213, I328, D331, N334, Y335, T337, N338, L339, F340, E341, Q342', 'E53, N64, T65, D66, G67, D70, Q75, N77, R79, W80, W81, P88, G89, N121, A125, W126, V127, A128, R130', 'K240, G265', 'K91, E139, A142, F143, K146, N150, K152, Y175, D177, G178, K179, M180, R187, Q188, H203, H206, K209, E217', 'R557, D589, K591, P628, Y638, C639, D640, V641, F642, R644, R646', 'N175, R220', 'C29, S63, N72, L74, V75, I76, S77, R78, N127, N129, R130, Y131, A132, W133, H134, R135', 'D745, R748, T749, R761, N762', 'N134, M146, E147, I318, G320, D321, I322, R323, Q324', 'P123, I126, Q127, N130, S131, V132, D133, M134, T142, D143, A144, V147, K148, D149, P150, Q151', 'K196, S197, Y346, N347, N348, N349, F350, N352, N354, Q451, K452', 'E132, I133, F134, P135, S138, S139, P141, N142, S178, K179, S180, Y181, A182, N183, N184, E186, G253, T255', 'E252, I317, D320, V321, N323, G324, A325, D326, F327, Y328, G329, N330, Q331, K333, Y341, L383, A384, Q385, K386, P387', 'C119, V120, L122, T202, Q203, R419, K421, Q422, I423, M434, P437', 'K214, K238, K248', 'H34, V36, N54, S70, K292, N294, P305, D307, T334, V363, D364, G365, W366, Q379, A380, D382, L383, K384, T386, Q387, I390, D391, I393, N394, G395, L397, N398, I401, K403, T404, N405, R498', 'T134, N135, N136, D139, M141, I320, G322, D323, I324, R325, Q326, T412', 'G61, R63, P64, L65, E113, N114, K115, I116, I117, S118, Y159, E164, E166, R167, L169, K171, I173, L174, K175', 'G145, V146, T147, Q148, N149, G150, G151, S152, N153, T171, K172, S173, G174, S175, E206, S209, L210', 'V133, T134, N135, N136, I137, T138, D140, M141, I320, I321, G322, D323, I324, R325, Q326, H328, T412, P414', 'F42, I43, P44, R45, R46, F47, I48, D49, R50, I51, Q52, K70, N71, W83, R86, M87', 'I87, N88, K129, I130, Q131, I132, P134, S136, S137, Y153, R161, R178, S179, Y180, N181, Y268', 'K58, T134, N135, N136, I137, T138, D139, D140, M141, Q292, I293, N294, C295, T296, R297, P298, N299, N300, N301, D319, I320, I321, G322, D323, I324, R325, Q326, A327, H328, C329, V331, S332, N408, D409, S410, I411, T412, L413, P414, Q437, G438, V439, I440, R441, C442, V443, S444, N445', 'V505, N506, A507, Q508, P509, K510, C511, N512, P513, N514, H549, N550, Q551, D552, G553, L554, I555, C556', 'T134, S135, N136, N139, S140, I325, G327, D328, I329, R330, Q331, H333, T411, P413', 'E48, K96, N98, E101, T197, N275, T277, N278, N279, A280, K281, N282, S363, G364, G365, D366, V369, W424, Q425, R453, D454, G455, T462, E463, T464, R466, D471', 'N93, K96, T122, T280, N281, N282, A283, K284, S365, G366, G367, D368, E370, I371, N419, M420, W421, G423, R450, D451, G452, G453, A454, N455, N459, E460, T461, R463, G467', 'D38, K62, A63, G64, P65, H66, P68, T69, A70, Q87, I94, L99', 'P579, E580, D582, Q583, K591, D592, P593, P594, F595, P601, K615, A622, C623, Q624, P625, C626, P627', 'Y108, K147, V149, T150, K159, W167, H197, S200, T201, S202, A203, D204, Q206, S207, L208, Q210, R240, E241', 'L258, I261, N262, D263, P265, I266, T267, N268, D269, K271, K272, S275', 'K501, F502, S503, Y504, I505, R506, T507, K511, L513, R515, E517, D569, P570, K571, S572, Q573, H575,  D618, P830', 'T407, K409, H414, Q415, K449, S452, R454', 'R313, K314, S383, T385, T386, E388, E397, W398, E471, P481, L484, N485, K511, R512, S515, R536, K542, S543, T544, Y545, I546, D547, P548, A568, A570, N580, R728', 'K147, V149, S159, W167, K170, S173, H197, P200, T201, T203, D204, Q206, S207, L208, Q210, K236, D239, A241, G242', 'G852, Q854, C856, K858, K882, C883, V884, R885, K887, E915, W917, F918, K920', 'Q215, Y217, S229, F233, L234, D236, K290, S291, G292, C293, H295, D297', 'C119, V120, L122, V200, T202, A204, P369, R419, K421, Q422, I423, K432, M434, Y435, A436, P437', 'F115, L117, K135, L138, F139, K140, T141, E142', 'D130, T131, V132, T133, V144, S145, R146, S147, L148, N207, A208, P209, G210, H211, R212', 'Q74, V75, E86, D87, R88, Q89, S90, A91, P92, R94', 'P2, Q3, Q4, N18, R20, L21, F56, P58, Y61, K100, K109, H110, D111, D112, I115, T168, L170, G171, D179, V181, D228, T229, Y232', 'F43, M44, Y71, K74, M107, R108, I109, K110, P111, H112, Q113, G114, Q115, H116, I117, G118, E119', 'H33, G34, N37, Y38, R39, W80, W81, R91, N92, L93, N95, T107, N111, K114, K115, I116, S118, D119, G120, N121, A125', 'Q104, T195, S196, N276, N277, A278, S360, G361, G362, D363, I366, W418, Q419, T446, R447, D448, G449, N452, I458, R460, G464', 'S147, N149, T152, K155, D156, R157, K158, Q159, K160, V161, N162', 'Q41, T43, N44, R45, N46, D48, Y53, G67, K68, T69, P70, S81, L84', 'R199, Q222, K223, E224, P225, P226, F227, L228, W229, M230, R358', 'K96, T122, N278, T280, N281, N282, A283, K284, S365, G366, G367, D368, I371, W421, Q422, G423, T424, T449, R450, D451, G452, G453, A454, N455, T457, N459, E460, T461, R463, G466, G467, N468, K470', 'E2200, S2201, K2202, A2203, S2205, D2206, H2230, Q2232, G2233, R2234', 'E47, Q49, N50, T52, E53, V54, Y55, K57, K59, D64, D69, A71, E115, T117, E118, L119, T120, R121, E122', 'S1440, R1463, R1465, T1466, C1467, N1468, P1469, V1470, Y1471, E1472, K1473, Y1474, Q1486, G1487, E1492, R1534, E1618, R1619, D1621', 'T141, T143, G144, G145, S146, R147, A150, G153, N154, P155, W163, T165, E166, G168, T199, E200, T203, L204, Q236', 'S365, G366, G367, D368, I371, V372, G473, D474, M475', 'K36, E39, Q40, R43, T63, S64, V65, T66, R68, P69, Q73, L76, S77, E80, D81', 'Y114, T147, N149, G150, T151, S152, N161, W169, T171, H172, L173, N174, F175, K176, H199, P201, V202, D206, F209, L210, I242, P243, S244', 'N132, T133, T134, N135, T137, T143, I319, I320, G321, N322, I323, R324, Q325, Y327, T410, P412'] \n",
      "\n",
      "Epitopes shared between peptides and lipopolysaccharides: 29 1365 306\n",
      "\n",
      " ['Chain A: N47, E49, A51, N52, E133, N134, I135, K136, Y137, E138, F167, S168: Chain B: K310, F311, L312, Q328, N368, K370', 'Ac-D-His-Pro-NH2', 'Ac-Gln-D-Phe-His-D-Pro', 'Ac-D-Phe-betaAla-L-His-D-Pro-NH2', 'Y45, L49, R52, G53, A54, P55, G56, A57, Q58, I60, T61, Y62, P63, R64 + D-aa(G77)', 'Chain I: S32, P34, N40, E44, V45, T46, E47; Chain J: N552, A553, C556, G557, Q560, L561, E564', 'Chain I: S32, P34, N40, T42, L43, E44, V45, T46, E47, Q50; Chain J: N552, A553, C556, G557, Q560, L561, E564', 'Ac-D-Glu-His-D-Pro-NH2', 'EFSLKGPLIQWRSG + D-aa(E1, F2, S3, L4, K5, P7, L8, I9, Q10, W11, R12, S13)', 'Chain B: T30, G31, Y32, G33, W52, G53, D54, N56, D58, E98, R99, D100, Y101, R102 Chain A: H30, Y32, Y49, Y50, T53, W92, S93', 'Chain B: T76, C105; Chain E: A26, A27, S55, A56, G57, K69', 'A: N24, G26, P27, V29, T155, K156, E159, L161, Y190, T192, S193, V194, T195, N196, I199; B: Q169, L170, K171, V172 \\tDiscontinuous protein', 'estriol 3-O-(beta-D-glucuronide)', 'GATPQDLNTL + NLeu(L10)', 'Ac-D-Phe-His-D-Pro-NH2', 'VPGSQHYDS + D-aa(V1, P2, S4, Q5, H6, Y7, D8, S9)', 'Ac-Gln-D-Phe-His-D-Pro-betaAla', 'Ac-D-Phe-His-D-Pro', 'Ac-Gln-D-Phe-His-D-Pro-betaAla-betaAla', 'TKDTNNNLCG + D-aa(C9)', 'Ac-D-His-Pro', 'Ac-His-D-Pro', 'Ac-Gln-D-Phe-His-D-Pro-NH2', 'DATPEWLGARL + NLeu(L11)', 'TKDTNNNLKG + D-aa(K9)', 'Ac-His-D-Pro-NH2', 'estrone 3-O-(beta-D-glucuronide)', \"1,2-dihexanoyl-sn-glycero-3-phospho-(1'-sn-glycerol)\", 'a: R356, C360, L387, S389, N390, N395, E396, T397, H398, F399, S400, D401, D402, E404, Q405, D408; b: S269, E270, G271, K272, D273, T274, P275, Q324, R325, K327'] \n",
      "\n",
      "Epitopes shared between peptides and multichain_epitopes: 139 1365 139\n",
      "\n",
      " ['A: S152, N153, W169, G174, S175, S202, T203, Q205, E206, T208, S209, G241, L242; C: T142, T144, P178, V179, N181', 'A: L69, N70, K73, Y76, K77, T78, S79, P214, S215, F232, V233, Y235, H239, V243; B: L123, F124, G125, A126, L128', 'A: Q1, Q2, D26, Y93, Q94, G95, G96, R97, A98; B: W32, Q43, Q45, W46, R51, S52, D55, E57, K59, S60, L61, P62, P97, W99', 'A: H25, H45, V47; B: D363, G364, W365, T385, I389, T393, V396, I400', 'B: G524, S525, T526, A529, R614, N615, S617, E618, D621, N622, M623, T624, L626, Q627, K630; G: E86, N87, V88, T89, E90, E91, P237, P239', 'Chain A: N47, E49, A51, N52, E133, N134, I135, K136, Y137, E138, F167, S168: Chain B: K310, F311, L312, Q328, N368, K370', 'X: E18, P19, S20, T55, L56, S57, D58, N60, I61, Q62; Y: L8, T9, E34, G35, I36, P37, D39, Q40, L71, R72, L73, R74, G75, G76', 'H: T30, N31, Y32, G33, W50, N52, Y54, T59, Y101, N104, Y105, Y106; L: D28, R68, H91, Y92, S93, T94, F96', 'O: N35, T52, H53, S306, T333; R: V33, D34, G35, W36, L53, T56, Q57, I60, D61, T64, N68, I71, E72', 'A: Y205, K205, R207, F208, P209, S210, E212, H213, R216, A217; E: L393, Q401, P402, P403, Y404, T405, A406, A407, A409, K412', 'E: N151, D158, K159, K160, Q161, K162, V163, I306; F: K160, N176', 'A: N426, N428, R429, I432, K445, G446, E463, K465; C: L160, E161, S182, N183, G184', 'A: T56, P71, H72, E296, N306, T334; B: D364, G365, W366, L383, K384, T386, Q387, I390, I393, N394, L397, N398, I401, K403, T404', 'B: G524, T526, S617, E618, D621, N622, T624, L626, Q627, K630; G: E86, N87, T89, P237, P239', 'B: G525, S618, E619, D622, N623, T625, E629, R631; G: K86, N87, T89, N91, P242, K244', 'A: N155, K281, S287, D288, T290; B: D122, D126, W132, V133, D134, S135', 'A: S63, S64, D65, Y66, R69; B: L97, Y108, H109, M110, N111, P149, I150', 'A: T290, W291, Q293; B: G112, E113, E114, R121', 'B: G527, T529, R617, S620, E621, D624, N625, T627, L629, Q630; G: E86, N87, T89, E90, E91, P237, P239', 'X: Q3, M4, F98, G99, Q100, S159, Q160; Y: P14, A40, P41, G42, K43, G44, L45, E46, Q61, K62, R83, A84, E85, T87, L108, V111, S112, S113, E148, L170, S172, Y176', 'C: H45, N48, E51, T332; D: V361, D362, G363, W364, Q381, T384, Q385, I388, N389, T392, N396', 'A: L99, E100, S101; B: Q40, C41, C43, V44, T46, G64, P65, P68, T69, A70, Q71, C83, D85, L86, Q87; D: Q40, C43, V44', 'A: H24, H44, Q46, S304, M305; B: V364, D365, G366, W367, K384, T387, Q388, I391, T395, V398, N399, I402', 'A: S37, W38, I39, Y42, T46, C47, Q48, P83, C122, E123, C124; B: V69, P70, Q100, L102, I104, S108, S109, L111;', 'B: G524, S525, T526, S617, E618, D621, N622, T624, L626, Q627, K630; G: E86, N87, T89, P237, P239', 'A: N70, I296, E296, T334; B: D364, G365, L383, K384, T386, Q387, I390, I393, N394, L397, N398, I401, E402, T404, E406', 'B: T526, R614, S617, E618, D621, N622; G: E31, N87, T89, P237', 'A: V28, S29, N46, T327; B: E354, G355, I357, D358, G359, W360, Y377, K378, T380, Q381, I384, D385, I387, T388, L391', 'Chain I: S32, P34, N40, E44, V45, T46, E47; Chain J: N552, A553, C556, G557, Q560, L561, E564', 'Chain I: S32, P34, N40, T42, L43, E44, V45, T46, E47, Q50; Chain J: N552, A553, C556, G557, Q560, L561, E564', 'A: L105, G106, G107, K108, G109, Y111, L135, N136, G152, D153, W154, P155, E156, L158; B: I21, Q22, V105', 'B: S64, I65, S66, D67, M68, A69, K84, D87, Q89, Y90, K118, F119, A120, G232, T233, K246, R252, V255; A: N208, E276, M277, D278, G279', 'A: P37, E341, K342; B: E360, G361, I363, D364, R370, T377, Q379, L383', 'A: L306, G307, W308, K309, W310, Y368, V370, G371, R372, L379; B: Y328, K338, Q345, H346', 'M: R139, R142, E146, R147, D149, R150, R153, M154, D157, N158; N: H145, E152, D156, R160', 'A: S41, T42, R136, Q251; B: A503, I504, V505, N506, A507, K510, N512, P513, N514, H516, E545, G546, L547, N550, D552, G553, C556, G557', 'A: K417, D419, N590, P593, G594, L595, N596; B: G599, N600, N601, P602, N604, Y605, E611, E612, V615, K616, D620, L621, S622', 'A: H25, H45, V46, N47, L496, S306, L307, P308, T333; B: D363, G364, W365, Q382, T385, Q386, I389, D390, T393, V396, N397, I400;', 'A: N590, P593, G594, L595, N596; B: G599, N600, N601, C603, N604, Y605, E611, E612, V615, K616, D620, L621, S622', 'A: H44, Q46, D47, I48, S304, M305, P306, T331; B: D365, G366, W367, K384, T387, Q388, I391, D392, T395, V398, N399, I402', 'A: H45, V47, N48, L49, T332; B: V361, D362, G363, W364, Q381, T384, Q385, I388, N389, I391, T392, V395, I399', 'A: A50, S51, Q52, L53, E55, Y61, C121, T122, S123, K124, I126, R128, Q131, E133, N134, K136, T205, G207, S208, S210, S229, Y274, S275, S276, S277, V278; E: F310, A311, N313, S327', 'J: E278, Q279, A282, T285, D286, F289, K293; K: T157, N160, N161, H164, N167, D171, A172, L174, S175, D178, L179', 'A: W72, F150, A151; B: T214, R215, F216, A220, S221, K222, C255, Q256, G257, K258, N317, F318, L348, G349, T350, L351, D367, V380, S381, Q382, S383, G384', 'C: I355, S356, D357, M358, D373, D377, A407, K408, A410, C411, V545, V546, V547, L548, G549; E: M496, N497, N498, K499, H556, M567, D568, G569', 'B: L45, T50, G51, W52, Y53, T54, S150, V154, V178, V185, S180, G184, S186, V187, N262, D263, M264, P265, I266, T267, N268, D269, Q270, K271, K272, L273, L305, Y306, G307, V308, I309, D310, T311, P312, D344, N345, A346, G347, R364, S377; C: S425, N426, K427, N428, R429, G430, I431, D448, T449, L456, Y458, K461', 'A: I152, K153, Y200, T202, T203, T204, H205, F207, V132, V111; B: H129, R130, G131, E132, F133, S134, D137, S138, V139, S140, V141, W142, Y173, F175, R180, D181, P184, R187', 'A: I294, T334; B: D364, G365, L383, K384, T386, Q387, I390, D391, I393, N394, G395, L397, N398, E402, K403; I: L41, V42, K43, D48, Q49, T329, K331;', 'A: K68, Q74; B: K40, F84, S86, P73, R94, G95, N97, P98, V99, V100, S101', 'A: K160, G161, S162, Y163, T205, Y206, A207, M208, G209, K215, G221, D222, L224, S225, L226, R231, I233, P264, R265, E266; C: L240, N242', 'Chain B: T30, G31, Y32, G33, W52, G53, D54, N56, D58, E98, R99, D100, Y101, R102 Chain A: H30, Y32, Y49, Y50, T53, W92, S93', 'Chain B: T76, C105; Chain E: A26, A27, S55, A56, G57, K69', 'H: W52, D54, D100, Y101; L: H30, N31, Y32, Y50, T52, S65, G66, S67', 'U: E18, P19, S20, T55, L56, S57, D58, N60, I61, Q62; V: T7, L8, T9, E34, G35, I36, P37, D39, Q40, L71, R72, L73, R74, G75', 'A: H44, Q46, D47, I48, S304, M305, P306; B: V364, D365, G366, W367, A382, K384, T387, Q388, I391, D392, V394, T395, V398, I402', 'A: H24, H44, Q46, S304, M305, B: V364, D365, G366, W367, K384, T387, Q388, I391, T395, V398, N399, I402', 'A: H16, H36, T323; B: Q353, G354, V356, D357, G358, W359, Y372, K376, T379, Q380, I383, D384, V386, T387', 'A: T110, E113, E183, G185, T186, T187, K188, T220, N221, L222, G223, S224, G225, P226, V227, S228; B: R176, T197, T198, A199, P237', 'H: W52, Y53, D54, G55, S56, K57, T58, Y59, K65, A101, G102, G103, W104, W107; L: Y30, S31, S94', 'A: N24, G26, P27, V29, T155, K156, E159, L161, Y190, T192, S193, V194, T195, N196, I199; B: Q169, L170, K171, V172 \\tDiscontinuous protein', 'V: K74, M107, I109, H112, Q115, I117; W: F43, M44, Y47, Q48, Y51, D89, L92, C130, P132;', 'A: Q182, L186, S187, D188, K208, A245, P246, K248, E271, K272, Q273, R274, N275, G276; B: S212, N213 P214, R308', 'A: H45, S46, S306, T333; B: V362, D363, G364, W365, L382, K385, T386, Q387, N388, I389, D390, T393, N397, I400, E401', 'I: F43, M44, Y47, D89; J: Y71, K74, M107, R108, I109, K110, H112, Q113, G114, Q115, H116, I117', 'A: S51, Q52, L53, E55, Y61, C121, T122, S123, K124, A125, I126, R128, Q131, E133, N134, K136, T205, V206, G207, S208, P228, S229, S230, T231, Y274, S275, S276; E: S309, N313', 'A: P123, M152, T153, R157, K160; C: V126, N151, T153, R157, D158, K160', 'A: M378, A379, D380, Y446, G447, G448, Y450; B: Q371, T373, N375, A415, V416, Q417, N421, G422, Q423, R424, D426, T454, Q455, Y457, A459', 'C: K57, K59, E115, T117, L119, T120, E122; D: L21, N45, E47, T120, R121, E122', 'G421, A422, A423, M424, T425, M427, A428, D431, Q432; C: F94, A97, W98, I101, L104, N105, V106, P107, R109', 'A: T61, T63, H65; B: S465, P467, T468, R469, M470, A471, T472, K494, R496, R510, H512, F515, G516, E518', 'A: T347, T348, T350, E351, S352, V377, D378, R379, W381, G382, N383, G384, K526, K527, Q528, D529; B: G432, N433, D434, T435, K437', 'B: T622, N624, E625, D628, N629, M633, Q634; G: N86, T88, P247, C248', 'A: I216, K217, W219, R220, N221, Q250, A251, S252, K254, K262, I263, V264, K265, S266, V267, E268, N270; B: P93, V94, S95, N355, W358, W375, P377, N378, S388, I389, N449, S450, D451', 'B: H64, S65, A66, R67, L69, T71, Q91; C: A313, S314, S316, V317, G318, Q319, Q320, K322, V323, D388, T390, G391, T393, L394, K395, R454, Q491', 'A: R430, I431, K433, P435, Y436, P437, L438, D439, A440; B: P83, H377, G378, H379, I431, H432, K433, N434, P435, P437', 'A: E103, S104, Q106, D107, V108, L109, L110, E111, W116, K117, Q120, E123, L127, P152; B: K55, I60, N61', 'A: K62, G63, E287, N300, T327; B: D358, G359, W360, Y377, K378, T380, Q381, I384, D385, I387, T388, L391, N392, I395, E396, N399;', 'V: F43; W: Y71, K74, Q105, I106, M107, R108, I109, H112, Q113, G114, Q115, H116, I117, G118, E119, M120', 'A: Y47, K55, N61, K63, R73, I74, L158, R160, K162, D166, N167, R170; B: P154, N155', 'C: K74, M107, I109, K110, P111, H112, Q113, G114, Q115, H116, I117; D: M44, Y47, Q48, Y51, N88, D89, G91, L92, P132', 'A: R89, S90, G91, V92, P93, K95, K155, F159, T168; F: Q188;', 'A: R43, E44, L47, R48, H50, P51, C52, V53, S54, D55, Q56, E57; B: A49, H50, P51', 'A: T25, E28, E98, G100, T101, T102, K103, T135, N1367, L1378, G138, S139, G140, P141, V142, S143; B: R91, T1123, T113, A114, P152', 'A: R43, E44, L47, R48, H50, P51, C52, V53, S54, D55, Q56, E57; B: A49, H50, P51, N78', 'V: F43, Y47; W: Y71, K74, Q105, I106, M107, R108, I109, K110, H112, Q113, G114, Q115, H116, I117, G118, E119, M120', 'A: H438, S554, V589, K590, E591; B: T348, T349, T350, E351, S352, R353, C354, Q357, N363, E364, V377, R379, W381, G382, N383, G384, C385, G386, I393, K526, K527, Q528, D529', 'A: Y116, E149, D150, T160, K161, T162, T163, D168, S169, D170, V171, S172, V175; B: D115, Y116, Q117, M118, D121, D150, Q173, E174, V175, R176, K177', 'HA1: E341; HA2: E360, G361, I363, D364, R370, E375, T377, G378, Q379, A380, A381, L383, N491, E495', 'B: T526, R614, N615, S617, E618, D621, N622, M623, T624, Q627, K630; G: E86, T89, E90, E91, P237, P239', 'M: R139, R142, E146, R147, D149, R150, R153, M154, D157, N158, R160; N: H145, D156', 'A: H44, Q46, D47, I48, S304, M305, P306, T331; B: D365, G366, W367, K384, T387, Q388, I391, D392, T395, V398, N399, I402;', 'E: L221, R223, A309, L310, M311, R312, S313, T314, T315, T317, S318, E353, K378; F: E271, K272, Q273, R274, N275, R394, A395', 'C: Q81, E82, V83, V242, Q243; D: A503, V504, G505, I506, G507, A508, F510, G512, F513, R533, L534, V540, Q541, N545', 'B: S329, G363, G364, D365, V391, V392, T393, W417, E419, R427, R429; C: I321, I323, R334, Q336, V337, N338, D340, P353, F358', 'B: D156; D: T45, Y46, S47, K48, P49, S72, F74, Q75, R76, S78, Y92, T98, S115, N118, T120, Q123, V137, I139, S140, E142, D143, I146', 'A: N347, T348, T349, T350, A351, S352, R353, C354, W381, G382, N383, G384, I393, K527; C: V589, Q605, E607, D642, S643', 'A: K38, R39, S40, S41, D42, Y43, R46; B: L74, Y85, H86, M87, N88, Q93, V124, P126, I127', 'A: H25, H45, T333; B: G360, V362, D363, G364, W365, Y378 L382, Q386, I389, I392, T393, V396', 'B: G421, A422, A423, M424, T425, M427, A428, D431; C: F94, A97, W98, I101, L104, N105, V106, P107, R109, E145', 'A: T350, E351, S352, C354, Q357, S361, L362, N363, E364, R379, W381, G382, N383, G384, C385, G386, I393, T395, K526, K527, Q528; B: R282, H307, G308, E324, L325, I326, V589, K590, R603, Q605, D642', 'B: G522, T524, D615, E616, G619, N620, T622, M624, R628; G: E84, N85, T87, N89, P236, N238', 'A: N54, T56, E57, L58, D307, K308, P309; B: I363, D364, G365, W366, A381, L383, T386, Q387, I390, D391, I393, N394, L397, I401', 'A: K243, D246, P248, L249, N250, P380, Q381, Y382, H383; B: I231, H234, E235', 'A: H45, V47, N48, L49, N304, S305, S306, L307, P308, T333; B: I362, D363, G364, W365, Q382, T385, Q386, I389, T393, V396, N397, I400;', 'A: E85, E132, K136, T137, H155, A156, G157, A158, R269, Y270; E: P141, N142, K177, S179, S181, F217, G219, S220, S221, Y223, S224, K225, K226, G254, D255, K256, I257, T258, E260', 'A: T233, G303, V305, Q321, K322, S323, L324, S325; B: R238, D239, T242, K297, Q301;', 'A: R231, F232, S233, F234, P235, R236, V237, I238, N239, S240, A241, D242, G243, A244, A245, T246, W247, Y248, F249, N250, P251, V252, I253, L254, R255, P256, N257, N258, V259, E260; B: N265, G266, Q267, I268, I269, N270, T271, Y272, Q273, A274, R275, F276, G277, T278, I279, I280, A281, R282, N283, F284, D285, T286, I287, R288, L289, S290, F291, Q292', 'A: E38, P40, F41, F42, S43, Q44, P45, M95; B: R63, L65, Q66', 'A: Y39, V65, N66, Q101, S102, V104, V105, T106, D107; B: R364, Y365, E366, H367, T419, G420, Y421', 'V: Y71, Q105, R108, I109, K110, P111, H112, Q113, G114, Q115, H116, I117, G118; W: K42', 'B: G28, T30, E121, D122, D125, N126, T128, Q131, R134; G: E86, N87, T89, P234, N236', 'G: T42, L43; H: V505, N506, A507, Q508, P509, K510, C511, P513, N514, H549, N550, Q551, D552, G553, C556', 'C: L328, G329, W330, K331, W332, Y390, Y391, V392, G393, R394, E399, L401; F: Y350, L351, T357, T360, L364', 'A: G524, S525, T526, A529, R614, S617, E618, D621, N622, T624, L626, Q627; G: E86, N87, T89, P237, P239', 'I: L43; J: V505, N506, A507, Q508, P509, K510, C511, N512, P513, N514, H549, N550, Q551, D552, G553, L554, I555, C556;', 'V: G131, E132, F133, S134, S138, S140, V141, W142, D145, K171, Y173, F175, T177, R180, T227, A228, C229; W: I152, K153, G154, T204, H205, F207, R224, V230, V232', 'A: T348, T350, E351, S352, L362, R379, W381, G382, N383, G384, K526, K527, Q528; B: G432, N433, D434, T435, G436', 'A: N64, Q401, P402, P403, Y404, T405, A406, A407, A409, K412; B: Y205, K206, R207, F208 P209, S210, E212, H213, R216, A217', 'A: I231, H234, E235; B: K243, D246, P248, L249, N250, P380, Q381, Y382, H383', 'B: G524, T526, R614, N615, S617, E618, D621, N622, T624, Q627, K630; G: E86, N87, T89, E90, E91, P237, P239', 'B: G518, D611, R612, N615, N616, E621, R624; G: V30, E86, N87, T89, H91, P235, K237', 'A: G152, N153, D154, T155, K157; B: T69, T70, E71, S72, V97, D98, R99, W101, G102, N103, G104, K246, K247, Q248', 'A: N53, T55, E56, T57, N307, L308, P309; B: I366, D367, G368, W369, A384, Y386, T389, Q390, I393, D394, I396, T397, L400, I404', 'H: Y33, D52, E53, Q54, N56, I58, D95, T96, A97, A98, Y99; L: R27, D28, I29, K30, Y32, Y49, Y50, S53, H91, G92, E93, S94, W96', 'C: K47, M48, C49, R51, D106, R108; E: E23, T24, K27, N28, D29, Y30, Y31', 'A: R2, H27, V46, T47, M140, S149, G150, M151, I152,  V153, D155, L180, G181, G182, G184, S185, E276, D278, K297, R299, E370, N371, K373; C: D67, A69, S70, D71, S72, R73, C74, Q77, L82, D83, K84, R99, G102, N103, G104, K251, R252, Q253', 'A: H43, K45, I47, T302, L303, P304, T329; B: V358, D359, G360, W361, K378, T381, Q382, K383, F385, D386, V392, I396', 'A: S63, D64, G67, E68, K69, R75, T78, R322; B: F246, L249, Y250, E253, R254, I256, Q257, I260, Q301, I302, E304, L305, Y306, E307, D308, F309', 'A: E55, G56, E58, Y59, G62, E63, R65, K66, D106, W107, R108, Q155, A158, E161, G162, T163, E166, W167, R169, R170; C: R1, P4', 'V: F43, M44, Y47, Q48, Y51, H53, N88, D89, L92, E129, C130, R131; W: K74, M107, I109, H112, Q115, H116, I117', 'B: G524, S525, T526, S617, E618, D621, N622, T624, Q627, K630; G: E86, N87, T89, E91, P237', 'C: L119, V120, W121, Q152, R154, I156, I158, R160, K161, K162, P163, I164, F165, K166, K167; D: N135, R137', 'a: R356, C360, L387, S389, N390, N395, E396, T397, H398, F399, S400, D401, D402, E404, Q405, D408; b: S269, E270, G271, K272, D273, T274, P275, Q324, R325, K327', 'A: L330, G331, W332, K333, W334, Y392, I394, G395, K396, L403; B: Y352, L353, Q359, R362, T369', 'A: N24, P27, V29, T155, K156, E159, L161, Y190, T192, V194, T195, N196, I199; B: L170, K171, V172', 'A: K243, D246, P248, L249, N250, P380, Q381, Y382, H383; B: I231', 'A: S570, R573, V576; B: D754, D828, R855, N857, Q858, E859, K861, P890, H918, H919, F920, I921', 'A: N79, I83, H84, E86, K228, D229, K230, S240; B: A509, V510, G511, I512, G513, A514, V515, F516, L519', 'A: D246, A247, P248, L249, N250, P380, Q381, Y382, H383; B: I231, H234, E235'] \n",
      "\n",
      "Epitopes shared between peptides and peptides_PTM: 60 1365 60\n",
      "\n",
      " ['MPGERGAAGIAGPK + HYL(P2)', 'I224, G225, D226, T227, K249, A250, Y251, V252, N253, P254, I255, N256, E257, A258, I259, D275, C276, S277, K278, I279, P280, S281, L282, P283, D284, V285, T286, N295, I296, S297, S298, Q299 + GLYC(N295)', 'Y45, L49, R52, G53, A54, P55, G56, A57, Q58, I60, T61, Y62, P63, R64 + D-aa(G77)', 'P1725, R1726, L1727, T1728, Q1729, P1744, W1745, N1746, V1747, V1748, P1749, E1750, K1751, A1752, H1753, L1754, L1755, S1756, L1757, V1758, D1759, V1760, M1785, H1786, G1787, A1788, R1789; + SCM(M1785)', 'PLQPQQPFP + DEAM(Q5)', 'GARGLTGRPGDA + HYL(P9)', 'VQGSGAFGR + ACET(V1)', 'EFSLKGPLIQWRSG + D-aa(E1, F2, S3, L4, K5, P7, L8, I9, Q10, W11, R12, S13)', 'ERGTKPPLEELS + GAL(T4)', 'NPNANPNANPNA + ACET(N1)', 'RSGYSSPGSPGTPGSRSR + PHOS(S6, S9, T12)', 'QQEKNEQELLELDKWASLWN + AMID(N20)', 'KPLEEVLNL + METH(L9)', 'AKAKTDHGAE + ACET(A1)', 'GPPGARGLTGRPGDAGPP + CITR(R6)', 'ARTKQTARKSTG + METH(K4)', 'N126, S149, N151, D158, K159, K160, K161, K162, Y164 + GLYC(N126, N147, N151)', 'APDTRPAP + GLYC(T4)', 'TKDTNNNL + ACET(T1)', 'YSTCYFIM + OX(C4, M8)', 'APDTRP + GAL(T4)', 'estriol 3-O-(beta-D-glucuronide)', 'GATPQDLNTL + NLeu(L10)', 'VPGSQHYDS + D-aa(V1, P2, S4, Q5, H6, Y7, D8, S9)', 'V291, E292, L428, S429, N430 + GLYC(N430)', 'C146, S147, N149, T151, K155, D156, R157, K158, Q159, K160, V161, N162 + GLYC(N149, N162)', 'GPPGPPGPPGPPGPPGARGLTGRPGDAGPPGPPGACA + CITR(R18, R23)', 'Y45, L49, R52, G53, A54, P55, G56, A57, Q58, I60, T61, Y62, R64, D80 + SCM(E71)', 'N292, H326, N328, M368, Y379, N381, Q384, N387, E395, T406, P408, C409, R410 + GLYC(N292, N328, N381, N387)', 'TKDTNNNLCG + D-aa(C9)', 'EFRHDS + PYRE(E1)', 'HA1: E341; HA2: E360, G361, I363, D364, R370, E375, T377, G378, Q379, A380, A381, L383, N491, E495 + GLYC(2:N499)', 'H129, N166, D173, K174, K175, K177 + GLYC(N162, N166)', 'NIYNCEPANPSEKNSPSTQYCYSIQ + CYSTL(C5, C21)', 'N136, N300, D319, I320, I321, G322, D323, I324, R325, V439, R441 + GLYC(N300)', 'I224, G225, D226, N256, E257, A258, I259, G260, C261, D275, S277, K278, P280, S281, P283, D284, N295, S297, Q299 + GLYC(N295)', 'YNKRKRIHIGPGRAFYTTKNIIG + AIB(A14)', 'HERSYMFSDLENRCIAAEAKK + SCM(A19)', 'ACPPSHVLDMRSGTCLAAEGK + AMID(K21)', 'RSGYSSPGSPGTPGSRSR + PHOS(S5, S9, T12)', 'RSGYSSPGSPGTPGSRSR + PHOS(S9, T12, S17)', 'RSGYSSPGSPGTPGSRSR + PHOS(S9, T12, S15)', 'RSGYSSPGSPGTPGSRSR + PHOS(S9, T12)', 'DATPEWLGARL + NLeu(L11)', 'DHGAE + ACET(D1)', 'S147, N149, T151, T152, E153, L154, R155, D156, K157, K158, Q159, K160, A161, Y162 + GLYC(N149)', 'NWFNITNVLWLISKKK + MCM(V8, L11, S13)', 'TKDTNNNLKG + D-aa(K9)', 'NWFDITNWLWYIK + SCM(F3)', 'ELDKWASLWNWFNITNVLWLIKK + MCM(L2, A6, V16, L19)', 'T134, N300, I320, I321, G322, D323, I324, R325, V439, R441 + GLYC(N300)', 'estrone 3-O-(beta-D-glucuronide)', \"1,2-dihexanoyl-sn-glycero-3-phospho-(1'-sn-glycerol)\", 'LLELDKWASLW + AMID(W11)', 'CRIHIGPGRAFYTC + OX(C1, C14)', 'CGADSYEMEEDGVRKC + OX(C1, C16)', 'QLINTNGSWHVN + PYRE(Q1)', 'NWFNITNVLWLIKKKK + MCM(V8, L11)', 'ARTKQTARKSTGGKAP + METH(K9)', 'ACQAFYASSPRKSIHIGACA + OX(C2, C19)'] \n",
      "\n",
      "Epitopes shared between strictly_linear and true_discontinuous: 0 372 794\n",
      "\n",
      " [] \n",
      "\n",
      "Epitopes shared between strictly_linear and lipopolysaccharides: 12 372 306\n",
      "\n",
      " ['Ac-D-Phe-His-D-Pro', 'Ac-Gln-D-Phe-His-D-Pro-betaAla-betaAla', 'Ac-D-His-Pro-NH2', 'Ac-Gln-D-Phe-His-D-Pro', 'Ac-D-Phe-betaAla-L-His-D-Pro-NH2', 'Ac-His-D-Pro-NH2', 'Ac-D-His-Pro', 'Ac-His-D-Pro', 'Ac-D-Glu-His-D-Pro-NH2', 'Ac-D-Phe-His-D-Pro-NH2', 'Ac-Gln-D-Phe-His-D-Pro-betaAla', 'Ac-Gln-D-Phe-His-D-Pro-NH2'] \n",
      "\n",
      "Epitopes shared between strictly_linear and multichain_epitopes: 0 372 139\n",
      "\n",
      " [] \n",
      "\n",
      "Epitopes shared between strictly_linear and peptides_PTM: 0 372 60\n",
      "\n",
      " [] \n",
      "\n",
      "Epitopes shared between true_discontinuous and lipopolysaccharides: 0 794 306\n",
      "\n",
      " [] \n",
      "\n",
      "Epitopes shared between true_discontinuous and multichain_epitopes: 0 794 139\n",
      "\n",
      " [] \n",
      "\n",
      "Epitopes shared between true_discontinuous and peptides_PTM: 0 794 60\n",
      "\n",
      " [] \n",
      "\n",
      "Epitopes shared between lipopolysaccharides and multichain_epitopes: 7 306 139\n",
      "\n",
      " ['a: R356, C360, L387, S389, N390, N395, E396, T397, H398, F399, S400, D401, D402, E404, Q405, D408; b: S269, E270, G271, K272, D273, T274, P275, Q324, R325, K327', 'Chain I: S32, P34, N40, E44, V45, T46, E47; Chain J: N552, A553, C556, G557, Q560, L561, E564', 'Chain I: S32, P34, N40, T42, L43, E44, V45, T46, E47, Q50; Chain J: N552, A553, C556, G557, Q560, L561, E564', 'Chain A: N47, E49, A51, N52, E133, N134, I135, K136, Y137, E138, F167, S168: Chain B: K310, F311, L312, Q328, N368, K370', 'A: N24, G26, P27, V29, T155, K156, E159, L161, Y190, T192, S193, V194, T195, N196, I199; B: Q169, L170, K171, V172 \\tDiscontinuous protein', 'Chain B: T30, G31, Y32, G33, W52, G53, D54, N56, D58, E98, R99, D100, Y101, R102 Chain A: H30, Y32, Y49, Y50, T53, W92, S93', 'Chain B: T76, C105; Chain E: A26, A27, S55, A56, G57, K69'] \n",
      "\n",
      "Epitopes shared between lipopolysaccharides and peptides_PTM: 10 306 60\n",
      "\n",
      " ['estrone 3-O-(beta-D-glucuronide)', 'VPGSQHYDS + D-aa(V1, P2, S4, Q5, H6, Y7, D8, S9)', 'Y45, L49, R52, G53, A54, P55, G56, A57, Q58, I60, T61, Y62, P63, R64 + D-aa(G77)', 'EFSLKGPLIQWRSG + D-aa(E1, F2, S3, L4, K5, P7, L8, I9, Q10, W11, R12, S13)', 'DATPEWLGARL + NLeu(L11)', 'TKDTNNNLKG + D-aa(K9)', \"1,2-dihexanoyl-sn-glycero-3-phospho-(1'-sn-glycerol)\", 'TKDTNNNLCG + D-aa(C9)', 'estriol 3-O-(beta-D-glucuronide)', 'GATPQDLNTL + NLeu(L10)'] \n",
      "\n"
     ]
    }
   ],
   "source": [
    "#Check duplicates/overlap between groups\n",
    "\n",
    "keys = list(label_dict.keys())\n",
    "del_keys = []\n",
    "for key in keys:\n",
    "    del_keys.append(key)\n",
    "    keys = [x for x in keys if x not in del_keys]\n",
    "    if len(keys) ==1:\n",
    "        break\n",
    "    for new_key in keys:\n",
    "        duplicates = [x for x in label_dict[key] if x in label_dict[new_key]]\n",
    "        print(f'Epitopes shared between {key} and {new_key}:', len(duplicates), len(label_dict[key]), len(label_dict[new_key]))\n",
    "        print('\\n', duplicates, '\\n')\n",
    "        \n",
    "#unsorted epitopes\n",
    "unsorted = [x for x in df['Epitope'].unique() if x not in set(sorted_epitopes)]\n",
    "#mannually add to category\n",
    "\n",
    "#left over seem fishy and unclear. Could be epitopes of one AA or abreviations (E404f ood additive?). Look up if time.\n",
    "#Some might refer to point mutations in specific proteins (check 'Antigen column')\n",
    "#Some can be sorted though and are added on above to their group\n",
    "left_over = [x for x in unsorted if x not in peptides_PTM]"
   ]
  },
  {
   "cell_type": "markdown",
   "metadata": {},
   "source": [
    "It's quiet difficult tot exactly filter out chemical structures that are non peptidic. In a way you can't really define a structure different to peptide. Although, a peptide is made up of amino acid monomers linked through the peptidic bond. As all peptides share this bond, it is not expected to have a strong influence on peptidic epitope specificity. Not to forget, the BCR is ofcourse also peptidic. The functional groups of the amino acids however, and their spatial organisation along the peptide would contribute more to specificity for both CDRH3  and the peptidic epitope. \n",
    "Non-proteinogenic amino acids are very similar to the proteinogenic amino acids. \n",
    "\n"
   ]
  },
  {
   "cell_type": "code",
   "execution_count": 13,
   "metadata": {},
   "outputs": [
    {
     "data": {
      "text/plain": [
       "['R204',\n",
       " 'P176',\n",
       " 'S98',\n",
       " 'R214',\n",
       " 'R19',\n",
       " 'K163',\n",
       " 'D158',\n",
       " 'S203',\n",
       " 'G528',\n",
       " 'N669',\n",
       " 'S806',\n",
       " 'Y671',\n",
       " 'D729',\n",
       " 'T797',\n",
       " 'D675',\n",
       " 'T210',\n",
       " 'N847',\n",
       " 'E404',\n",
       " 'K218',\n",
       " 'E129',\n",
       " 'I390']"
      ]
     },
     "execution_count": 13,
     "metadata": {},
     "output_type": "execute_result"
    }
   ],
   "source": [
    "unsorted"
   ]
  },
  {
   "cell_type": "code",
   "execution_count": 14,
   "metadata": {},
   "outputs": [
    {
     "data": {
      "image/png": "[encoded data removed]",
      "text/plain": [
       "<Figure size 864x504 with 1 Axes>"
      ]
     },
     "metadata": {},
     "output_type": "display_data"
    }
   ],
   "source": [
    "#Pie Chart 2: Number of epitopes with at least one CDR entry in the IEDB database. \n",
    "#Some epitopes have multiple entries with different CDR sequences\n",
    "\n",
    "epitope_type_counts = [len(set(strictly_linear)), len(set(peptides_PTM)), len(set(true_discontinuous)),#len(set(lipopolysaccharides)),\n",
    "                       len(set(multichain_epitopes)), len(set(non_peptides))]\n",
    "\n",
    "epitope_type = [f'Linear ({len(set(strictly_linear))})', \n",
    "                f'Peptides with PTM ({len(set(peptides_PTM))})', \n",
    "                f'Discontinuous peptides ({len(set(true_discontinuous))})', \n",
    "                #f'lipopolysaccharides ({len(set(lipopolysaccharides))})', \n",
    "                f'Multichain Peptides ({len(set(multichain_epitopes))})', \n",
    "                f'Not Peptide ({len(set(non_peptides))})']\n",
    "\n",
    "fig, ax = plt.subplots(figsize=(12,7))\n",
    "ax.pie(epitope_type_counts, labels = epitope_type, startangle=90)\n",
    "ax.axis('equal')\n",
    "ax.set_title(f\"Unique epitopes ({len(df['Epitope'].unique())})\", fontsize= 20)\n",
    "plt.legend(loc = 4)\n",
    "plt.savefig('epitope_labels.pdf')\n",
    "plt.show()"
   ]
  },
  {
   "cell_type": "code",
   "execution_count": 15,
   "metadata": {},
   "outputs": [
    {
     "name": "stdout",
     "output_type": "stream",
     "text": [
      "10878 10878\n"
     ]
    },
    {
     "data": {
      "text/plain": [
       "Counter({'0': 8448, '1': 2300, nan: 130})"
      ]
     },
     "execution_count": 15,
     "metadata": {},
     "output_type": "execute_result"
    }
   ],
   "source": [
    "#Add label for classifier (Find better way to do this)\n",
    "peptide_label = []\n",
    "for x in df['Epitope']:\n",
    "    if x in label_dict['peptides'] or x in label_dict['non_peptides']:\n",
    "            peptide_label.append('0')\n",
    "    else:\n",
    "        if x in label_dict['lipopolysaccharides']:\n",
    "            peptide_label.append('1')\n",
    "        else:\n",
    "            if x in unsorted:\n",
    "                peptide_label.append(np.nan)\n",
    "\n",
    "print(len(peptide_label), len(df['Epitope']))\n",
    "Counter(peptide_label)"
   ]
  },
  {
   "cell_type": "code",
   "execution_count": 16,
   "metadata": {},
   "outputs": [
    {
     "data": {
      "text/plain": [
       "(10878, 10878, ['sequence', 'Epitope', 'Antigen', 'region'])"
      ]
     },
     "execution_count": 16,
     "metadata": {},
     "output_type": "execute_result"
    }
   ],
   "source": [
    "len(df['Epitope']), len(peptide_label), list(df)"
   ]
  },
  {
   "cell_type": "code",
   "execution_count": 17,
   "metadata": {},
   "outputs": [],
   "source": [
    "df.loc[df['Epitope'] == 'lipopolysaccharide_own', 'sequence'] = df.loc[df['Epitope'] == 'lipopolysaccharide_own', :]['sequence'].apply(lambda x: x[1:-1])"
   ]
  },
  {
   "cell_type": "code",
   "execution_count": 18,
   "metadata": {},
   "outputs": [],
   "source": [
    "df.dropna(subset =('sequence', 'Epitope', 'region'),inplace=True)"
   ]
  },
  {
   "cell_type": "code",
   "execution_count": 19,
   "metadata": {},
   "outputs": [
    {
     "data": {
      "text/plain": [
       "(10878, 10878)"
      ]
     },
     "execution_count": 19,
     "metadata": {},
     "output_type": "execute_result"
    }
   ],
   "source": [
    "len(df['Epitope']), len(peptide_label)"
   ]
  },
  {
   "cell_type": "code",
   "execution_count": 20,
   "metadata": {},
   "outputs": [
    {
     "data": {
      "text/plain": [
       "0    8448\n",
       "1    2300\n",
       "Name: peptide_label, dtype: int64"
      ]
     },
     "execution_count": 20,
     "metadata": {},
     "output_type": "execute_result"
    }
   ],
   "source": [
    "df['peptide_label'] = peptide_label\n",
    "df['peptide_label'].value_counts()"
   ]
  },
  {
   "cell_type": "code",
   "execution_count": 21,
   "metadata": {},
   "outputs": [],
   "source": [
    "#df[df['peptide_label']=='1'].to_csv('non_peptides.csv')"
   ]
  },
  {
   "cell_type": "code",
   "execution_count": 22,
   "metadata": {},
   "outputs": [
    {
     "name": "stdout",
     "output_type": "stream",
     "text": [
      "Original shape: (10878, 5)\n",
      "Drop columns: (10878, 3)\n",
      "Dropped label NA: (10748, 3)\n",
      "Names columns: ['sequence', 'region', 'peptide_label']\n",
      "Dropped duplicates : (4841, 3)\n"
     ]
    }
   ],
   "source": [
    "#Create csv with columns for featurematrix i.e CDR and Label must remain\n",
    "print('Original shape:', df.shape)\n",
    "#Drop columns wich we don't need\n",
    "df.drop(labels = ['Epitope', 'Antigen'], axis = 'columns', inplace=True)\n",
    "print('Drop columns:', df.shape)\n",
    "\n",
    "#Drop na values along the peptide_label column\n",
    "df.dropna(subset=['peptide_label'], inplace=True)\n",
    "print('Dropped label NA:', df.shape)\n",
    "\n",
    "#Of the columns that remain; CDR and peptide label region, drop duplicates\n",
    "print('Names columns:', list(df))\n",
    "df.drop_duplicates(inplace=True)\n",
    "print('Dropped duplicates :', df.shape)"
   ]
  },
  {
   "cell_type": "code",
   "execution_count": 23,
   "metadata": {},
   "outputs": [
    {
     "data": {
      "text/plain": [
       "HCDR3    1283\n",
       "LCDR3     951\n",
       "HCDR2     893\n",
       "HCDR1     764\n",
       "LCDR1     683\n",
       "LCDR2     267\n",
       "Name: region, dtype: int64"
      ]
     },
     "execution_count": 23,
     "metadata": {},
     "output_type": "execute_result"
    }
   ],
   "source": [
    "df['region'].value_counts()"
   ]
  },
  {
   "cell_type": "code",
   "execution_count": 24,
   "metadata": {},
   "outputs": [],
   "source": [
    "#export with peptide and non_peptides\n",
    "#df.to_csv('BCRdataCDRpept_LPS.csv', index=False)\n",
    "#df.to_csv('BCRdataCDRpeptnonpept_LPS.csv', index=False)\n",
    "#df.to_csv('BCRdataCDRpeptnonpept_LPS_enriched.csv', index=False)\n",
    "#df.to_csv('BCRdataCDRpept_nonpept.csv', index=False)\n",
    "df.to_csv('pneumotestje.csv', index=False)"
   ]
  },
  {
   "cell_type": "code",
   "execution_count": null,
   "metadata": {},
   "outputs": [],
   "source": []
  },
  {
   "cell_type": "code",
   "execution_count": null,
   "metadata": {},
   "outputs": [],
   "source": []
  }
 ],
 "metadata": {
  "kernelspec": {
   "display_name": "Python 3",
   "language": "python",
   "name": "python3"
  },
  "language_info": {
   "codemirror_mode": {
    "name": "ipython",
    "version": 3
   },
   "file_extension": ".py",
   "mimetype": "text/x-python",
   "name": "python",
   "nbconvert_exporter": "python",
   "pygments_lexer": "ipython3",
   "version": "3.6.5"
  }
 },
 "nbformat": 4,
 "nbformat_minor": 2
}
